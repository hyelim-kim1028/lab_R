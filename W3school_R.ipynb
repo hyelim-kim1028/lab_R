{
  "nbformat": 4,
  "nbformat_minor": 0,
  "metadata": {
    "colab": {
      "name": "W3school_R.ipynb",
      "provenance": [],
      "authorship_tag": "ABX9TyMUWXvoalXBnR+KLZn1D2n7",
      "include_colab_link": true
    },
    "kernelspec": {
      "name": "ir",
      "display_name": "R"
    },
    "language_info": {
      "name": "R"
    }
  },
  "cells": [
    {
      "cell_type": "markdown",
      "metadata": {
        "id": "view-in-github",
        "colab_type": "text"
      },
      "source": [
        "<a href=\"https://colab.research.google.com/github/hyelim-kim1028/lab_R/blob/master/W3school_R.ipynb\" target=\"_parent\"><img src=\"https://colab.research.google.com/assets/colab-badge.svg\" alt=\"Open In Colab\"/></a>"
      ]
    },
    {
      "cell_type": "markdown",
      "metadata": {
        "id": "BIMtFISE_e3J"
      },
      "source": [
        "#R Tutorials "
      ]
    },
    {
      "cell_type": "code",
      "metadata": {
        "colab": {
          "base_uri": "https://localhost:8080/",
          "height": 50
        },
        "id": "Syhbe9qUS_4l",
        "outputId": "2e652c85-b7c0-4c42-8317-ecf59835e693"
      },
      "source": [
        "# Basic R tutorial  recap \n",
        "\n",
        "\"Hello, world!\" # strings with \"\"\n",
        "5+5 # numbers w/o \" \""
      ],
      "execution_count": null,
      "outputs": [
        {
          "output_type": "display_data",
          "data": {
            "text/plain": [
              "[1] \"Hello, world!\""
            ],
            "text/latex": "'Hello, world!'",
            "text/markdown": "'Hello, world!'",
            "text/html": [
              "'Hello, world!'"
            ]
          },
          "metadata": {}
        },
        {
          "output_type": "display_data",
          "data": {
            "text/plain": [
              "[1] 10"
            ],
            "text/latex": "10",
            "text/markdown": "10",
            "text/html": [
              "10"
            ]
          },
          "metadata": {}
        }
      ]
    },
    {
      "cell_type": "code",
      "metadata": {
        "colab": {
          "base_uri": "https://localhost:8080/",
          "height": 437
        },
        "id": "dKHduShLTjte",
        "outputId": "866e1797-f0a2-4157-d32d-83e97be8ae32"
      },
      "source": [
        "plot(1:10)"
      ],
      "execution_count": null,
      "outputs": [
        {
          "output_type": "display_data",
          "data": {
            "image/png": "[encoded data removed]",
            "text/plain": [
              "plot without title"
            ]
          },
          "metadata": {
            "image/png": {
              "width": 420,
              "height": 420
            }
          }
        }
      ]
    },
    {
      "cell_type": "code",
      "metadata": {
        "colab": {
          "base_uri": "https://localhost:8080/",
          "height": 227
        },
        "id": "v8lZ7K5WTj3U",
        "outputId": "3572c834-36c4-427e-e704-494ac95d10b5"
      },
      "source": [
        "# R introduction \n",
        "# What is R? \n",
        "\n",
        "# print \n",
        "\"Hello, world\"\n",
        "\n",
        "# also has print() function \n",
        "print(\"Hello, world!\") \n",
        "\n",
        "# print() within a for loops \n",
        "for (x in 1:10) {\n",
        "  print(x)\n",
        "}\n",
        "\n",
        "# comment"
      ],
      "execution_count": null,
      "outputs": [
        {
          "output_type": "display_data",
          "data": {
            "text/plain": [
              "[1] \"Hello, world\""
            ],
            "text/latex": "'Hello, world'",
            "text/markdown": "'Hello, world'",
            "text/html": [
              "'Hello, world'"
            ]
          },
          "metadata": {}
        },
        {
          "output_type": "stream",
          "text": [
            "[1] \"Hello, world!\"\n",
            "[1] 1\n",
            "[1] 2\n",
            "[1] 3\n",
            "[1] 4\n",
            "[1] 5\n",
            "[1] 6\n",
            "[1] 7\n",
            "[1] 8\n",
            "[1] 9\n",
            "[1] 10\n"
          ],
          "name": "stdout"
        }
      ]
    },
    {
      "cell_type": "code",
      "metadata": {
        "id": "R3w8HW0ETj_L"
      },
      "source": [
        "# R variables \n",
        "# variables: containers for stroing data values \n",
        "# assign a value using <- \n",
        "\n",
        "name <- \"John\"\n",
        "age <- 40 \n",
        "\n",
        "name # output John #auto print \n",
        "print(name)\n",
        "age # output 40 \n"
      ],
      "execution_count": null,
      "outputs": []
    },
    {
      "cell_type": "code",
      "metadata": {
        "colab": {
          "base_uri": "https://localhost:8080/",
          "height": 34
        },
        "id": "ZU2cpa6ETkGs",
        "outputId": "00965133-4b4c-4fed-d2bd-68bca7779b06"
      },
      "source": [
        "# concatenate elements # paste()\n",
        "\n",
        "# EX1 \n",
        "text <- \"awesome\"\n",
        "paste(\"R is\", text)\n",
        "\n",
        "# EX2 \n",
        "text1 <- \"R is\"\n",
        "text2 <- \"awsome\"\n",
        "paste(text1, text2)\n",
        "\n",
        "#EX3 \n",
        "num1 <- 5 \n",
        "num2 <- 10 \n",
        "\n",
        "num1 + num2\n",
        "\n",
        "\n",
        "# EX4 => NOOOOOO \n",
        "# when try to mix a string and a number > error \n",
        "# num <- 5 \n",
        "# text <- \"Some text\"\n",
        "# num + text \n",
        "# Error in num + text: non-numeric argument to binary operator"
      ],
      "execution_count": null,
      "outputs": [
        {
          "output_type": "display_data",
          "data": {
            "text/plain": [
              "[1] 15"
            ],
            "text/latex": "15",
            "text/markdown": "15",
            "text/html": [
              "15"
            ]
          },
          "metadata": {}
        }
      ]
    },
    {
      "cell_type": "code",
      "metadata": {
        "colab": {
          "base_uri": "https://localhost:8080/",
          "height": 67
        },
        "id": "JiYhDVkhTkNt",
        "outputId": "31bc3572-171c-4b79-9e63-448390a8441a"
      },
      "source": [
        "# Multiple Variables \n",
        "\n",
        "# Assign the same value to multiple variables in one line \n",
        "var1 <- var2 <- var3 <- \"Orange\"\n",
        "\n",
        "# Pring variable values \n",
        "var1 \n",
        "var2 \n",
        "var3"
      ],
      "execution_count": null,
      "outputs": [
        {
          "output_type": "display_data",
          "data": {
            "text/plain": [
              "[1] \"Orange\""
            ],
            "text/latex": "'Orange'",
            "text/markdown": "'Orange'",
            "text/html": [
              "'Orange'"
            ]
          },
          "metadata": {}
        },
        {
          "output_type": "display_data",
          "data": {
            "text/plain": [
              "[1] \"Orange\""
            ],
            "text/latex": "'Orange'",
            "text/markdown": "'Orange'",
            "text/html": [
              "'Orange'"
            ]
          },
          "metadata": {}
        },
        {
          "output_type": "display_data",
          "data": {
            "text/plain": [
              "[1] \"Orange\""
            ],
            "text/latex": "'Orange'",
            "text/markdown": "'Orange'",
            "text/html": [
              "'Orange'"
            ]
          },
          "metadata": {}
        }
      ]
    },
    {
      "cell_type": "code",
      "metadata": {
        "id": "VLlqOx-sTkU_"
      },
      "source": [
        "# variable names \n",
        "\n",
        "# Rules \n",
        "# varaible name must start with a letter \n",
        "# can have combinations of letters, digits, period(.), underscore(_)\n",
        "# if starts with period(.), cannot be followed by a digit \n",
        "# cannot start with a number or underscore(_)\n",
        "# case-sensitive \n",
        "# NO reserved words \n",
        "\n",
        "# Legal variable names:\n",
        "myvar <- \"John\"\n",
        "my_var <- \"John\"\n",
        "myVar <- \"John\"\n",
        "MYVAR <- \"John\"\n",
        "myvar2 <- \"John\"\n",
        ".myvar <- \"John\"\n",
        "\n",
        "# why is it not working \n",
        "# .myvar <- John #Error in eval(expr, envir, enclos): object 'John' not found\n",
        "\n",
        "\n",
        "#Illegal variable names: \n",
        "# 2myvar <- \"John\"\n",
        "# my-var <- \"John\"\n",
        "# my var <- \"John\"\n",
        "# _my_var <- \"John\"\n",
        "# my_v@r <- \"John\"\n",
        "# TRUE <- \"John\""
      ],
      "execution_count": null,
      "outputs": []
    },
    {
      "cell_type": "code",
      "metadata": {
        "colab": {
          "base_uri": "https://localhost:8080/",
          "height": 101
        },
        "id": "12VzmFCDTkcK",
        "outputId": "990574dd-d7f7-476c-9d14-82f4414e2158"
      },
      "source": [
        "# Data Types \n",
        "\n",
        "# Basic Data Types \n",
        "# numeric \n",
        "# integer  \n",
        "# complex - 9 + 3i, i is an imaginary number\n",
        "# character - string \n",
        "# logical - boolean, TRUE or FALSE \n",
        "\n",
        "# class(): checks dtypes \n",
        "\n",
        "# Examples \n",
        "x <- 10.5 \n",
        "class(x) #numeric \n",
        "\n",
        "# integer \n",
        "y <- 1000L \n",
        "class(y) # integer, letter L makes it an integer \n",
        "\n",
        "# complex \n",
        "z <- 9i + 3\n",
        "class(z)\n",
        "\n",
        "# character/string \n",
        "l <- \"R is exciting\"\n",
        "class(l)\n",
        "\n",
        "# logical/boolean \n",
        "b <- TRUE \n",
        "class(b)"
      ],
      "execution_count": null,
      "outputs": [
        {
          "output_type": "display_data",
          "data": {
            "text/plain": [
              "[1] \"numeric\""
            ],
            "text/latex": "'numeric'",
            "text/markdown": "'numeric'",
            "text/html": [
              "'numeric'"
            ]
          },
          "metadata": {}
        },
        {
          "output_type": "display_data",
          "data": {
            "text/plain": [
              "[1] \"integer\""
            ],
            "text/latex": "'integer'",
            "text/markdown": "'integer'",
            "text/html": [
              "'integer'"
            ]
          },
          "metadata": {}
        },
        {
          "output_type": "display_data",
          "data": {
            "text/plain": [
              "[1] \"complex\""
            ],
            "text/latex": "'complex'",
            "text/markdown": "'complex'",
            "text/html": [
              "'complex'"
            ]
          },
          "metadata": {}
        },
        {
          "output_type": "display_data",
          "data": {
            "text/plain": [
              "[1] \"character\""
            ],
            "text/latex": "'character'",
            "text/markdown": "'character'",
            "text/html": [
              "'character'"
            ]
          },
          "metadata": {}
        },
        {
          "output_type": "display_data",
          "data": {
            "text/plain": [
              "[1] \"logical\""
            ],
            "text/latex": "'logical'",
            "text/markdown": "'logical'",
            "text/html": [
              "'logical'"
            ]
          },
          "metadata": {}
        }
      ]
    },
    {
      "cell_type": "code",
      "metadata": {
        "colab": {
          "base_uri": "https://localhost:8080/",
          "height": 118
        },
        "id": "dGAvLxWvTkjd",
        "outputId": "0ea44e74-75aa-4417-d2bc-dab5b5cd43f3"
      },
      "source": [
        "# Numbers \n",
        "# numeric, integer, complex \n",
        "\n",
        "x <- 10.5 # numeric \n",
        "y <- 10L # integer \n",
        "z <- 9i + 3 # complex\n",
        "\n",
        "\n",
        "# type conversion \n",
        "\n",
        "# as.numeric()\n",
        "# as.integer()\n",
        "# as.complex()\n",
        "\n",
        "x <- 1L # integer \n",
        "y <- 2 # numeric \n",
        "\n",
        "# convert from integer to numeric \n",
        "a <- as.numeric(x) #x: integer > as numeric \n",
        "\n",
        "# convert numeric to integer \n",
        "b <- as.integer(y)\n",
        "\n",
        "# print \n",
        "x\n",
        "y \n",
        "\n",
        "a\n",
        "b\n",
        "\n",
        "# dtypes of a and b \n",
        "class(a)\n",
        "class(b)\n",
        "\n"
      ],
      "execution_count": null,
      "outputs": [
        {
          "output_type": "display_data",
          "data": {
            "text/plain": [
              "[1] 1"
            ],
            "text/latex": "1",
            "text/markdown": "1",
            "text/html": [
              "1"
            ]
          },
          "metadata": {}
        },
        {
          "output_type": "display_data",
          "data": {
            "text/plain": [
              "[1] 2"
            ],
            "text/latex": "2",
            "text/markdown": "2",
            "text/html": [
              "2"
            ]
          },
          "metadata": {}
        },
        {
          "output_type": "display_data",
          "data": {
            "text/plain": [
              "[1] 1"
            ],
            "text/latex": "1",
            "text/markdown": "1",
            "text/html": [
              "1"
            ]
          },
          "metadata": {}
        },
        {
          "output_type": "display_data",
          "data": {
            "text/plain": [
              "[1] 2"
            ],
            "text/latex": "2",
            "text/markdown": "2",
            "text/html": [
              "2"
            ]
          },
          "metadata": {}
        },
        {
          "output_type": "display_data",
          "data": {
            "text/plain": [
              "[1] \"numeric\""
            ],
            "text/latex": "'numeric'",
            "text/markdown": "'numeric'",
            "text/html": [
              "'numeric'"
            ]
          },
          "metadata": {}
        },
        {
          "output_type": "display_data",
          "data": {
            "text/plain": [
              "[1] \"integer\""
            ],
            "text/latex": "'integer'",
            "text/markdown": "'integer'",
            "text/html": [
              "'integer'"
            ]
          },
          "metadata": {}
        }
      ]
    },
    {
      "cell_type": "code",
      "metadata": {
        "colab": {
          "base_uri": "https://localhost:8080/",
          "height": 118
        },
        "id": "koi-O5xrTkrt",
        "outputId": "5fe984fd-add5-4fa0-eef7-7aea2dd2bf20"
      },
      "source": [
        "# R Math \n",
        "\n",
        "# symbol for operations \n",
        "# +, -\n",
        "\n",
        "# Built-in Math Function \n",
        "max(5, 10, 5)\n",
        "min(5, 10, 5)\n",
        "sqrt(16)  # 4 \n",
        "abs(-4.7) # absolute(positive) value \n",
        "ceiling(1.4) #round-off # higher \n",
        "floor(1.4) #round-off # lower "
      ],
      "execution_count": null,
      "outputs": [
        {
          "output_type": "display_data",
          "data": {
            "text/plain": [
              "[1] 10"
            ],
            "text/latex": "10",
            "text/markdown": "10",
            "text/html": [
              "10"
            ]
          },
          "metadata": {}
        },
        {
          "output_type": "display_data",
          "data": {
            "text/plain": [
              "[1] 5"
            ],
            "text/latex": "5",
            "text/markdown": "5",
            "text/html": [
              "5"
            ]
          },
          "metadata": {}
        },
        {
          "output_type": "display_data",
          "data": {
            "text/plain": [
              "[1] 4"
            ],
            "text/latex": "4",
            "text/markdown": "4",
            "text/html": [
              "4"
            ]
          },
          "metadata": {}
        },
        {
          "output_type": "display_data",
          "data": {
            "text/plain": [
              "[1] 4.7"
            ],
            "text/latex": "4.7",
            "text/markdown": "4.7",
            "text/html": [
              "4.7"
            ]
          },
          "metadata": {}
        },
        {
          "output_type": "display_data",
          "data": {
            "text/plain": [
              "[1] 2"
            ],
            "text/latex": "2",
            "text/markdown": "2",
            "text/html": [
              "2"
            ]
          },
          "metadata": {}
        },
        {
          "output_type": "display_data",
          "data": {
            "text/plain": [
              "[1] 1"
            ],
            "text/latex": "1",
            "text/markdown": "1",
            "text/html": [
              "1"
            ]
          },
          "metadata": {}
        }
      ]
    },
    {
      "cell_type": "code",
      "metadata": {
        "colab": {
          "base_uri": "https://localhost:8080/",
          "height": 290
        },
        "id": "bJZaSMd1TkzS",
        "outputId": "d83b3a74-b34d-4c61-e4d0-5928556f562e"
      },
      "source": [
        "# R strings \n",
        "\n",
        "# string literals \n",
        "\"hello\"\n",
        "'hello'\n",
        "\n",
        "# Assign a String to a Variable \n",
        "str <- \"Hello\"\n",
        "str\n",
        "\n",
        "# Multiline Strings \n",
        "str <- \"Lorem ipsum dolor sit amet,\n",
        "consectetur adipiscing elit, \n",
        "sed do eiusmod tempor incididunt\n",
        "ut labore et dolore magna aliqua.\"\n",
        "\n",
        "str #adds \\n : new line \n",
        "cat(str) # line breaks # no \\n #cat()\n",
        "\n",
        "# string Length \n",
        "str <- \"Hello World!\"\n",
        "nchar(str) # number of characters \n",
        "\n",
        "# check a string \n",
        "# grepl : check if a character or a sequence of characters are present \n",
        "# return: boolean \n",
        "\n",
        "str <- \"Hello World!\"\n",
        "grepl(\"H\", str) #TRUE \n",
        "grepl(\"Hello\", str) \n",
        "grepl(\"X\", str)\n",
        "\n",
        "# Combine Two Strings \n",
        "# paste()\n",
        "\n",
        "str1 <- \"Hello\"\n",
        "str2 <- \"World\"\n",
        "paste(str1, str2)\n",
        "\n",
        "#Escape Characters \n",
        "# \\character \n",
        "\n",
        "# Error\n",
        "# str <- \"We are the so-called\"Vikings\",from the north\"\n",
        "# str\n",
        "\n",
        "# to fix the error \\character \n",
        "str <- \"We are the so-called \\\"Vikings\\\",from the north.\"\n",
        "str\n",
        "cat(str) # to print without backslash \n",
        "\n",
        "# coes \n",
        "# \\\\ Backslash \n",
        "# \\n new line (enter)\n",
        "# \\r Carriage Return \n",
        "# \\t  tab \n",
        "# \\b Backspace "
      ],
      "execution_count": null,
      "outputs": [
        {
          "output_type": "display_data",
          "data": {
            "text/plain": [
              "[1] \"hello\""
            ],
            "text/latex": "'hello'",
            "text/markdown": "'hello'",
            "text/html": [
              "'hello'"
            ]
          },
          "metadata": {}
        },
        {
          "output_type": "display_data",
          "data": {
            "text/plain": [
              "[1] \"hello\""
            ],
            "text/latex": "'hello'",
            "text/markdown": "'hello'",
            "text/html": [
              "'hello'"
            ]
          },
          "metadata": {}
        },
        {
          "output_type": "display_data",
          "data": {
            "text/plain": [
              "[1] \"Hello\""
            ],
            "text/latex": "'Hello'",
            "text/markdown": "'Hello'",
            "text/html": [
              "'Hello'"
            ]
          },
          "metadata": {}
        },
        {
          "output_type": "display_data",
          "data": {
            "text/plain": [
              "[1] \"Lorem ipsum dolor sit amet,\\nconsectetur adipiscing elit, \\nsed do eiusmod tempor incididunt\\nut labore et dolore magna aliqua.\""
            ],
            "text/latex": "'Lorem ipsum dolor sit amet,\\textbackslash{}nconsectetur adipiscing elit, \\textbackslash{}nsed do eiusmod tempor incididunt\\textbackslash{}nut labore et dolore magna aliqua.'",
            "text/markdown": "'Lorem ipsum dolor sit amet,\\nconsectetur adipiscing elit, \\nsed do eiusmod tempor incididunt\\nut labore et dolore magna aliqua.'",
            "text/html": [
              "'Lorem ipsum dolor sit amet,\\nconsectetur adipiscing elit, \\nsed do eiusmod tempor incididunt\\nut labore et dolore magna aliqua.'"
            ]
          },
          "metadata": {}
        },
        {
          "output_type": "stream",
          "text": [
            "Lorem ipsum dolor sit amet,\n",
            "consectetur adipiscing elit, \n",
            "sed do eiusmod tempor incididunt\n",
            "ut labore et dolore magna aliqua."
          ],
          "name": "stdout"
        },
        {
          "output_type": "display_data",
          "data": {
            "text/plain": [
              "[1] 12"
            ],
            "text/latex": "12",
            "text/markdown": "12",
            "text/html": [
              "12"
            ]
          },
          "metadata": {}
        },
        {
          "output_type": "display_data",
          "data": {
            "text/plain": [
              "[1] TRUE"
            ],
            "text/latex": "TRUE",
            "text/markdown": "TRUE",
            "text/html": [
              "TRUE"
            ]
          },
          "metadata": {}
        },
        {
          "output_type": "display_data",
          "data": {
            "text/plain": [
              "[1] TRUE"
            ],
            "text/latex": "TRUE",
            "text/markdown": "TRUE",
            "text/html": [
              "TRUE"
            ]
          },
          "metadata": {}
        },
        {
          "output_type": "display_data",
          "data": {
            "text/plain": [
              "[1] FALSE"
            ],
            "text/latex": "FALSE",
            "text/markdown": "FALSE",
            "text/html": [
              "FALSE"
            ]
          },
          "metadata": {}
        },
        {
          "output_type": "display_data",
          "data": {
            "text/plain": [
              "[1] \"Hello World\""
            ],
            "text/latex": "'Hello World'",
            "text/markdown": "'Hello World'",
            "text/html": [
              "'Hello World'"
            ]
          },
          "metadata": {}
        },
        {
          "output_type": "display_data",
          "data": {
            "text/plain": [
              "[1] \"We are the so-called \\\"Vikings\\\",from the north.\""
            ],
            "text/latex": "'We are the so-called \"Vikings\",from the north.'",
            "text/markdown": "'We are the so-called \"Vikings\",from the north.'",
            "text/html": [
              "'We are the so-called \"Vikings\",from the north.'"
            ]
          },
          "metadata": {}
        },
        {
          "output_type": "stream",
          "text": [
            "We are the so-called \"Vikings\",from the north."
          ],
          "name": "stdout"
        }
      ]
    },
    {
      "cell_type": "code",
      "metadata": {
        "id": "1VCQ6mxjTk7s",
        "colab": {
          "base_uri": "https://localhost:8080/",
          "height": 102
        },
        "outputId": "db8294d4-6a40-4ca2-e60c-8d1cb2d0fc28"
      },
      "source": [
        "# R Booleans / Logical Values \n",
        "# TRUE or FALSE \n",
        "\n",
        "10 > 9    # TRUE because 10 is greater than 9\n",
        "10 == 9   # FALSE because 10 is not equal to 9\n",
        "10 < 9    # FALSE because 10 is greater than 9\n",
        "\n",
        "a <- 10 \n",
        "b <- 9 \n",
        "a > b \n",
        "\n",
        "a <- 200 \n",
        "b <- 33 \n",
        "if (b > a) { \n",
        "  print(\"b is greater than a\")\n",
        "} else {\n",
        "  print(\"b is not greater than a\")\n",
        "}"
      ],
      "execution_count": null,
      "outputs": [
        {
          "output_type": "display_data",
          "data": {
            "text/plain": [
              "[1] TRUE"
            ],
            "text/latex": "TRUE",
            "text/markdown": "TRUE",
            "text/html": [
              "TRUE"
            ]
          },
          "metadata": {}
        },
        {
          "output_type": "display_data",
          "data": {
            "text/plain": [
              "[1] FALSE"
            ],
            "text/latex": "FALSE",
            "text/markdown": "FALSE",
            "text/html": [
              "FALSE"
            ]
          },
          "metadata": {}
        },
        {
          "output_type": "display_data",
          "data": {
            "text/plain": [
              "[1] FALSE"
            ],
            "text/latex": "FALSE",
            "text/markdown": "FALSE",
            "text/html": [
              "FALSE"
            ]
          },
          "metadata": {}
        },
        {
          "output_type": "display_data",
          "data": {
            "text/plain": [
              "[1] TRUE"
            ],
            "text/latex": "TRUE",
            "text/markdown": "TRUE",
            "text/html": [
              "TRUE"
            ]
          },
          "metadata": {}
        },
        {
          "output_type": "stream",
          "text": [
            "[1] \"b is not greater than a\"\n"
          ],
          "name": "stdout"
        }
      ]
    },
    {
      "cell_type": "code",
      "metadata": {
        "colab": {
          "base_uri": "https://localhost:8080/",
          "height": 34
        },
        "id": "ZdGe6nYcsBVu",
        "outputId": "d2363943-4515-4466-c9d9-a2f847785646"
      },
      "source": [
        "# R Operators \n",
        "10 + 5 \n",
        "\n",
        "# Arithmetic operators\n",
        "# %% : Modulus (Remainder from division)\n",
        "# %/% : Integer Division \n",
        "\n",
        "# Assignment operators\n",
        "# both ways, < and << both possible\n",
        "my_var <- 3\n",
        "my_var <<- 3\n",
        "3 -> my_var\n",
        "3 ->> my_var\n",
        "\n",
        "# Comparison operators\n",
        "# ==, !=, >, <, >=, <= \n",
        "\n",
        "# Logical operators\n",
        "# & : Element-wise Logical AND operator. It returns TRUE if both elements are TRUE\n",
        "# &&: Logical AND operator - Returns TRUE if both statements are TRUE\n",
        "# | : Elementwise- Logical OR operator. It returns TRUE if one of the statement is TRUE\n",
        "# || : Logical OR operator. It returns TRUE if one of the statement is TRUE.\n",
        "# ! : Logical NOT - returns FALSE if statement is TRUE\n",
        "\n",
        "# Miscellaneous operators\n",
        "# : > Creates a series of numbers in a sequence\n",
        "# %in% > Find out if an element belongs to a vector\n",
        "# %*% > Matrix Multiplication"
      ],
      "execution_count": null,
      "outputs": [
        {
          "output_type": "display_data",
          "data": {
            "text/plain": [
              "[1] 15"
            ],
            "text/latex": "15",
            "text/markdown": "15",
            "text/html": [
              "15"
            ]
          },
          "metadata": {}
        }
      ]
    },
    {
      "cell_type": "code",
      "metadata": {
        "colab": {
          "base_uri": "https://localhost:8080/"
        },
        "id": "kznia7tJsFyZ",
        "outputId": "edd01dd9-77c3-4ec9-e86e-2f1413f6a1cb"
      },
      "source": [
        "# R IF ... Else \n",
        "\n",
        "# IF \n",
        "a <- 33\n",
        "b <- 200\n",
        "\n",
        "if (b > a) {\n",
        "  print(\"b is greater than a\")\n",
        "}\n",
        "\n",
        "\n",
        "# Else ... If \n",
        "\n",
        "a <- 33\n",
        "b <- 33\n",
        "\n",
        "if (b > a) {\n",
        "  print(\"b is greater than a\")\n",
        "} else if (a == b) {\n",
        "  print (\"a and b are equal\")\n",
        "}\n",
        "\n",
        "# If Else \n",
        "a <- 200\n",
        "b <- 33\n",
        "\n",
        "if (b > a) {\n",
        "  print(\"b is greater than a\")\n",
        "} else if (a == b) {\n",
        "  print(\"a and b are equal\")\n",
        "} else {\n",
        "  print(\"a is greater than b\")\n",
        "}\n",
        "\n",
        "# Nested If \n",
        "x <- 41\n",
        "\n",
        "if (x > 10) {\n",
        "  print(\"Above ten\")\n",
        "  if (x > 20) {\n",
        "    print(\"and also above 20!\")\n",
        "  } else {\n",
        "    print(\"but not above 20.\")\n",
        "  }\n",
        "} else {\n",
        "  print(\"below 10.\")\n",
        "}\n",
        "\n",
        "\n",
        "#AND \n",
        "a <- 200\n",
        "b <- 33\n",
        "c <- 500\n",
        "\n",
        "if (a > b & c > a){\n",
        "  print(\"Both conditions are true\")\n",
        "}\n",
        "\n",
        "#OR \n",
        "a <- 200\n",
        "b <- 33\n",
        "c <- 500\n",
        "\n",
        "if (a > b | a > c){\n",
        "  print(\"At least one of the conditions is true\")\n",
        "}"
      ],
      "execution_count": null,
      "outputs": [
        {
          "output_type": "stream",
          "text": [
            "[1] \"b is greater than a\"\n"
          ],
          "name": "stdout"
        }
      ]
    },
    {
      "cell_type": "code",
      "metadata": {
        "colab": {
          "base_uri": "https://localhost:8080/"
        },
        "id": "4ZjKVCDDr_pI",
        "outputId": "77a44719-9b44-48cb-ccea-6629a85695da"
      },
      "source": [
        "# R While Loop \n",
        "# execute a block of code as long as a specified condition is reached \n",
        "\n",
        "i <- 1\n",
        "while (i < 6) {\n",
        "  print(i)\n",
        "  i <- i + 1\n",
        "}\n",
        "\n",
        "print(\"break\")\n",
        "\n",
        "# Break \n",
        "i <- 1 \n",
        "while (i < 6) { \n",
        "  print(i)\n",
        "  i <- i + 1 \n",
        "  if (i == 4) {\n",
        "    break\n",
        "  }\n",
        "}\n",
        "\n",
        "print(\"Next\")\n",
        "\n",
        "#Next \n",
        "# skip an iteration without terminating the loop \n",
        "\n",
        "i <- 0 \n",
        "while (i < 6) { \n",
        "  i <- i+ 1 \n",
        "  if (i == 3){\n",
        "    next\n",
        "  }\n",
        "  print(i)\n",
        "}\n",
        "\n",
        "print(\"if-else + while\")\n",
        "# Yahtzee! #If...Else + While \n",
        "\n",
        "dice <- 1\n",
        "while (dice <= 6) { \n",
        "  if (dice < 6) {\n",
        "    print(\"No Yahtzee\")\n",
        "  } else {\n",
        "    print(\"Yahtzee!\")\n",
        "  }\n",
        "  dice <- dice + 1\n",
        "}"
      ],
      "execution_count": null,
      "outputs": [
        {
          "output_type": "stream",
          "text": [
            "[1] 1\n",
            "[1] 2\n",
            "[1] 3\n",
            "[1] 4\n",
            "[1] 5\n",
            "[1] \"break\"\n",
            "[1] 1\n",
            "[1] 2\n",
            "[1] 3\n",
            "[1] \"Next\"\n",
            "[1] 1\n",
            "[1] 2\n",
            "[1] 4\n",
            "[1] 5\n",
            "[1] 6\n",
            "[1] \"if-else + while\"\n",
            "[1] \"No Yahtzee\"\n",
            "[1] \"No Yahtzee\"\n",
            "[1] \"No Yahtzee\"\n",
            "[1] \"No Yahtzee\"\n",
            "[1] \"No Yahtzee\"\n",
            "[1] \"Yahtzee!\"\n"
          ],
          "name": "stdout"
        }
      ]
    },
    {
      "cell_type": "code",
      "metadata": {
        "colab": {
          "base_uri": "https://localhost:8080/"
        },
        "id": "i7PKUThozefU",
        "outputId": "df9a745e-54db-4af1-bef1-3f83812feab6"
      },
      "source": [
        "# For Loops \n",
        "for (x in 1: 10) {\n",
        "  print(x)\n",
        "}\n",
        "\n",
        "# retrieve each item from a list \n",
        "fruits <- list(\"apple\", \"banana\", \"cherry\")\n",
        "\n",
        "for (x in fruits) { \n",
        "  print(x)\n",
        "}\n",
        "\n",
        "# print the number \n",
        "\n",
        "dice <- c(1,2,3,4,5,6)\n",
        "\n",
        "for (x in dice) {\n",
        "  print(x)\n",
        "}\n",
        "\n",
        "print(\"Break\")\n",
        "# Break \n",
        "# can stop the loop before it has looped through all the items\n",
        "fruits <- list(\"apple\", \"banana\", \"cherry\")\n",
        "\n",
        "for (x in fruits) { \n",
        "  if (x == \"cherry\") { \n",
        "    break\n",
        "  }\n",
        "  print(x)\n",
        "}\n",
        "\n",
        "print(\"Next\")\n",
        "# Next \n",
        "fruits <- list(\"apple\", \"banana\", \"cherry\")\n",
        "\n",
        "for (x in fruits) { \n",
        "  if (x == \"banana\") {\n",
        "    next\n",
        "  }\n",
        "  print(x)\n",
        "}\n",
        "\n",
        "# Yahtzee! \n",
        "dice <- 1:6 \n",
        "\n",
        "for (x in dice) { \n",
        "  if (x == 6){\n",
        "    print(paste(\"The dice number is\", x, \"Yahtzee!\"))\n",
        "  } else {\n",
        "    print(paste(\"The dice number is\", x, \"Not Yahtzee!\"))\n",
        "  }\n",
        "}\n",
        "\n",
        "#Nested Loops \n",
        "adj <- list(\"red\", \"big\", \"tasty\")\n",
        "fruits <- list(\"apple\", \"banana\", \"cherry\")\n",
        "\n",
        "  for (x in adj) { #adj loop + fruits 으로 돎 \n",
        "    for (y in fruits) { \n",
        "      print(paste(x,y))\n",
        "    }\n",
        "  }"
      ],
      "execution_count": null,
      "outputs": [
        {
          "output_type": "stream",
          "text": [
            "[1] 1\n",
            "[1] 2\n",
            "[1] 3\n",
            "[1] 4\n",
            "[1] 5\n",
            "[1] 6\n",
            "[1] 7\n",
            "[1] 8\n",
            "[1] 9\n",
            "[1] 10\n",
            "[1] \"apple\"\n",
            "[1] \"banana\"\n",
            "[1] \"cherry\"\n",
            "[1] 1\n",
            "[1] 2\n",
            "[1] 3\n",
            "[1] 4\n",
            "[1] 5\n",
            "[1] 6\n",
            "[1] \"Break\"\n",
            "[1] \"apple\"\n",
            "[1] \"banana\"\n",
            "[1] \"Next\"\n",
            "[1] \"apple\"\n",
            "[1] \"cherry\"\n",
            "[1] \"The dice number is 1 Not Yahtzee!\"\n",
            "[1] \"The dice number is 2 Not Yahtzee!\"\n",
            "[1] \"The dice number is 3 Not Yahtzee!\"\n",
            "[1] \"The dice number is 4 Not Yahtzee!\"\n",
            "[1] \"The dice number is 5 Not Yahtzee!\"\n",
            "[1] \"The dice number is 6 Yahtzee!\"\n",
            "[1] \"red apple\"\n",
            "[1] \"red banana\"\n",
            "[1] \"red cherry\"\n",
            "[1] \"big apple\"\n",
            "[1] \"big banana\"\n",
            "[1] \"big cherry\"\n",
            "[1] \"tasty apple\"\n",
            "[1] \"tasty banana\"\n",
            "[1] \"tasty cherry\"\n"
          ],
          "name": "stdout"
        }
      ]
    },
    {
      "cell_type": "code",
      "metadata": {
        "colab": {
          "base_uri": "https://localhost:8080/",
          "height": 327
        },
        "id": "GMXkmERV1uOG",
        "outputId": "2748b262-8629-4763-d2b4-2c297f2453e2"
      },
      "source": [
        "# R Functions \n",
        "\n",
        "# Creating a Function \n",
        "my_function <- function() {\n",
        "  print(\"Hello World!\")\n",
        "}\n",
        "\n",
        "# call a function \n",
        "my_function()\n",
        "\n",
        "# Arguments \n",
        "my_function <- function(fname) { \n",
        "  paste(fname, \"Griffin\")\n",
        "}\n",
        "\n",
        "my_function(\"Peter\")\n",
        "my_function(\"Lois\")\n",
        "\n",
        "# Number of Arguments \n",
        "my_function <- function(fname, lname) {\n",
        "  paste(fname, lname)\n",
        "}\n",
        "\n",
        "my_function(\"Peter\", \"Griffin\")\n",
        "\n",
        "#Default Parameter Value \n",
        "\n",
        "my_function <- function(country = \"Norway\") {\n",
        "  paste(\"I am from\", country)\n",
        "}\n",
        "\n",
        "my_function(\"Sweden\")\n",
        "my_function()\n",
        "\n",
        "# Return Values \n",
        "\n",
        "my_function <- function(x) {\n",
        "  return (5 * x)\n",
        "}\n",
        "\n",
        "my_function(3)\n",
        "print(my_function(3))\n",
        "\n",
        "#Nested Functions \n",
        "# call a function within another function \n",
        "\n",
        "# Example 1 \n",
        "Nested_function <- function(x,y) {\n",
        "  a <- x + y \n",
        "  return(a)\n",
        "}\n",
        "\n",
        "Nested_function(Nested_function(2,2), Nested_function(3,3))\n",
        "\n",
        "\n",
        "# Example 2 \n",
        "print(\"Example 2\")\n",
        "Outer_func <- function(x) {\n",
        "  Inner_func <- function(y) { \n",
        "    a <- x + y \n",
        "    return(a)\n",
        "  }\n",
        "  return (Inner_func)\n",
        "}\n",
        "\n",
        "output <- Outer_func(3) #To call the Outer_func \n",
        "output(5)\n",
        "\n",
        "print(\"Recursion\")\n",
        "# Recursion \n",
        "# the function call itself \n",
        "\n",
        "tri_recursion <- function(k) { \n",
        "  if (k > 0) {\n",
        "    result <- k + tri_recursion(k - 1)\n",
        "    print(result) \n",
        "  } else { \n",
        "    result = 0 \n",
        "    return(result)\n",
        "  }\n",
        "}\n",
        "\n",
        "tri_recursion(6)"
      ],
      "execution_count": null,
      "outputs": [
        {
          "output_type": "stream",
          "text": [
            "[1] \"Hello World!\"\n"
          ],
          "name": "stdout"
        },
        {
          "output_type": "display_data",
          "data": {
            "text/plain": [
              "[1] \"Peter Griffin\""
            ],
            "text/latex": "'Peter Griffin'",
            "text/markdown": "'Peter Griffin'",
            "text/html": [
              "'Peter Griffin'"
            ]
          },
          "metadata": {}
        },
        {
          "output_type": "display_data",
          "data": {
            "text/plain": [
              "[1] \"Lois Griffin\""
            ],
            "text/latex": "'Lois Griffin'",
            "text/markdown": "'Lois Griffin'",
            "text/html": [
              "'Lois Griffin'"
            ]
          },
          "metadata": {}
        },
        {
          "output_type": "display_data",
          "data": {
            "text/plain": [
              "[1] \"Peter Griffin\""
            ],
            "text/latex": "'Peter Griffin'",
            "text/markdown": "'Peter Griffin'",
            "text/html": [
              "'Peter Griffin'"
            ]
          },
          "metadata": {}
        },
        {
          "output_type": "display_data",
          "data": {
            "text/plain": [
              "[1] \"I am from Sweden\""
            ],
            "text/latex": "'I am from Sweden'",
            "text/markdown": "'I am from Sweden'",
            "text/html": [
              "'I am from Sweden'"
            ]
          },
          "metadata": {}
        },
        {
          "output_type": "display_data",
          "data": {
            "text/plain": [
              "[1] \"I am from Norway\""
            ],
            "text/latex": "'I am from Norway'",
            "text/markdown": "'I am from Norway'",
            "text/html": [
              "'I am from Norway'"
            ]
          },
          "metadata": {}
        },
        {
          "output_type": "display_data",
          "data": {
            "text/plain": [
              "[1] 15"
            ],
            "text/latex": "15",
            "text/markdown": "15",
            "text/html": [
              "15"
            ]
          },
          "metadata": {}
        },
        {
          "output_type": "stream",
          "text": [
            "[1] 15\n"
          ],
          "name": "stdout"
        },
        {
          "output_type": "display_data",
          "data": {
            "text/plain": [
              "[1] 10"
            ],
            "text/latex": "10",
            "text/markdown": "10",
            "text/html": [
              "10"
            ]
          },
          "metadata": {}
        },
        {
          "output_type": "stream",
          "text": [
            "[1] \"Example 2\"\n"
          ],
          "name": "stdout"
        },
        {
          "output_type": "display_data",
          "data": {
            "text/plain": [
              "[1] 8"
            ],
            "text/latex": "8",
            "text/markdown": "8",
            "text/html": [
              "8"
            ]
          },
          "metadata": {}
        },
        {
          "output_type": "stream",
          "text": [
            "[1] \"Recursion\"\n",
            "[1] 1\n",
            "[1] 3\n",
            "[1] 6\n",
            "[1] 10\n",
            "[1] 15\n",
            "[1] 21\n"
          ],
          "name": "stdout"
        }
      ]
    },
    {
      "cell_type": "code",
      "metadata": {
        "colab": {
          "base_uri": "https://localhost:8080/",
          "height": 84
        },
        "id": "N4N4llUQ_yti",
        "outputId": "7ec408f7-7d4a-417b-ac9f-b003a352e345"
      },
      "source": [
        "# R Global Variables \n",
        "\n",
        "# global 1 \n",
        "txt <- \"awesome\"\n",
        "my_function <- function() {\n",
        "  paste(\"R is\", txt)\n",
        "}\n",
        "\n",
        "my_function()\n",
        "\n",
        "# global 2 \n",
        "# create a variable inside a funtion with the same name as the global variable \n",
        "txt <- \"global variable\"\n",
        "my_function <- function() {\n",
        "  txt = \"fantastic\"\n",
        "  paste(\"R is\", txt)\n",
        "}\n",
        "\n",
        "my_function()\n",
        "\n",
        "# The Global Assignment Operator \n",
        "# global assignment operator: <<-, ->> \n",
        " \n",
        " txt <- \"awesome\"\n",
        "my_function <- function() {\n",
        "  txt <<- \"fantastic\"\n",
        "  paste(\"R is\", txt)\n",
        "}\n",
        "\n",
        "my_function()\n",
        "paste(\"R is\", txt)"
      ],
      "execution_count": null,
      "outputs": [
        {
          "output_type": "display_data",
          "data": {
            "text/plain": [
              "[1] \"R is awesome\""
            ],
            "text/latex": "'R is awesome'",
            "text/markdown": "'R is awesome'",
            "text/html": [
              "'R is awesome'"
            ]
          },
          "metadata": {}
        },
        {
          "output_type": "display_data",
          "data": {
            "text/plain": [
              "[1] \"R is fantastic\""
            ],
            "text/latex": "'R is fantastic'",
            "text/markdown": "'R is fantastic'",
            "text/html": [
              "'R is fantastic'"
            ]
          },
          "metadata": {}
        },
        {
          "output_type": "display_data",
          "data": {
            "text/plain": [
              "[1] \"R is fantastic\""
            ],
            "text/latex": "'R is fantastic'",
            "text/markdown": "'R is fantastic'",
            "text/html": [
              "'R is fantastic'"
            ]
          },
          "metadata": {}
        },
        {
          "output_type": "display_data",
          "data": {
            "text/plain": [
              "[1] \"R is fantastic\""
            ],
            "text/latex": "'R is fantastic'",
            "text/markdown": "'R is fantastic'",
            "text/html": [
              "'R is fantastic'"
            ]
          },
          "metadata": {}
        }
      ]
    },
    {
      "cell_type": "markdown",
      "metadata": {
        "id": "EF2L7VsA_jwg"
      },
      "source": [
        "# R Data Structures "
      ]
    },
    {
      "cell_type": "code",
      "metadata": {
        "id": "hRNOc3T42ye6",
        "colab": {
          "base_uri": "https://localhost:8080/",
          "height": 319
        },
        "outputId": "c8c0e297-7f1e-4fdc-c661-b5d890ec7b3f"
      },
      "source": [
        "# R Vectors \n",
        "# a list of items that are of the same type \n",
        "\n",
        "# to combine: c(), separate by comma \n",
        "\n",
        "# Vectors of strings \n",
        "fruits <- c(\"banana\", \"apple\", \"orange\")\n",
        "fruits\n",
        "\n",
        "# Vectors of numerical values \n",
        "numbers <- c(1,2,3)\n",
        "numbers\n",
        "\n",
        "# : > vectors with numerical sequence \n",
        "numbers <- 1:10 \n",
        "numbers\n",
        "\n",
        "# numerical values with decimals in a sequence \n",
        "numbers1 <- 1.5:6.5\n",
        "numbers1\n",
        "\n",
        "numbers2 <- 1.5:6.3 \n",
        "numbers2\n",
        "\n",
        "# vectors of logical values \n",
        "log_values <- c(TRUE, FALSE, TRUE, FALSE)\n",
        "log_values\n",
        "\n",
        "# vector length \n",
        "fruits <- c(\"banana\", \"apple\", \"orange\")\n",
        "length(fruits)\n",
        "\n",
        "# sort a vector : sort alphabetically or numerically \n",
        "fruits <- c(\"banana\", \"apple\", \"orange\", \"mango\", \"lemon\")\n",
        "numbers <- c(13, 3, 5, 7, 20, 2)\n",
        "\n",
        "sort(fruits)\n",
        "sort(numbers)\n",
        "\n",
        "# Access Vectors \n",
        "# index number inside brackets []\n",
        "fruits <- c(\"banana\", \"apple\", \"orange\")\n",
        "fruits[1] # first is first, no [0]\n",
        "\n",
        "# access multiple elements \n",
        "fruits <- c(\"banana\", \"apple\", \"orange\", \"mango\", \"lemon\")\n",
        "fruits[c(1,3)]\n",
        "\n",
        "# negative index, access all except one specified \n",
        "fruits[c(-1)]\n",
        "\n",
        "# Change an item \n",
        "fruits <- c(\"banana\", \"apple\", \"orange\", \"mango\", \"lemon\")\n",
        "# change \"banana\" to \"pear\"\n",
        "fruits[1] <- \"pear\"\n",
        "fruits\n",
        "\n",
        "# Repeat Vectors # rep()\n",
        "# each \n",
        "repeat_each <- rep(c(1,2,3), each = 3)\n",
        "repeat_each # 1 1 1 2 2 2 3 3 3 \n",
        "\n",
        "# time \n",
        "repeat_time <- rep(c(1,2,3), time = 3)\n",
        "repeat_time # 1 2 3 1 2 3 1 2 3 \n",
        "\n",
        "# repeat each value independently \n",
        "repeat_independent <- rep(c(1,2,3), times = c(5,2,1))\n",
        "repeat_independent\n",
        "\n",
        "# Generating Sequenced Vectors \n",
        "numbers <- 1:10 \n",
        "numbers\n",
        "\n",
        "# bigger or smaller steps in a sequence \n",
        "numbers <- seq(from = 0, to = 100, by = 20)\n",
        "numbers"
      ],
      "execution_count": null,
      "outputs": [
        {
          "output_type": "display_data",
          "data": {
            "text/plain": [
              "[1] \"banana\" \"apple\"  \"orange\""
            ],
            "text/latex": "\\begin{enumerate*}\n\\item 'banana'\n\\item 'apple'\n\\item 'orange'\n\\end{enumerate*}\n",
            "text/markdown": "1. 'banana'\n2. 'apple'\n3. 'orange'\n\n\n",
            "text/html": [
              "<style>\n",
              ".list-inline {list-style: none; margin:0; padding: 0}\n",
              ".list-inline>li {display: inline-block}\n",
              ".list-inline>li:not(:last-child)::after {content: \"\\00b7\"; padding: 0 .5ex}\n",
              "</style>\n",
              "<ol class=list-inline><li>'banana'</li><li>'apple'</li><li>'orange'</li></ol>\n"
            ]
          },
          "metadata": {}
        },
        {
          "output_type": "display_data",
          "data": {
            "text/plain": [
              "[1] 1 2 3"
            ],
            "text/latex": "\\begin{enumerate*}\n\\item 1\n\\item 2\n\\item 3\n\\end{enumerate*}\n",
            "text/markdown": "1. 1\n2. 2\n3. 3\n\n\n",
            "text/html": [
              "<style>\n",
              ".list-inline {list-style: none; margin:0; padding: 0}\n",
              ".list-inline>li {display: inline-block}\n",
              ".list-inline>li:not(:last-child)::after {content: \"\\00b7\"; padding: 0 .5ex}\n",
              "</style>\n",
              "<ol class=list-inline><li>1</li><li>2</li><li>3</li></ol>\n"
            ]
          },
          "metadata": {}
        },
        {
          "output_type": "display_data",
          "data": {
            "text/plain": [
              " [1]  1  2  3  4  5  6  7  8  9 10"
            ],
            "text/latex": "\\begin{enumerate*}\n\\item 1\n\\item 2\n\\item 3\n\\item 4\n\\item 5\n\\item 6\n\\item 7\n\\item 8\n\\item 9\n\\item 10\n\\end{enumerate*}\n",
            "text/markdown": "1. 1\n2. 2\n3. 3\n4. 4\n5. 5\n6. 6\n7. 7\n8. 8\n9. 9\n10. 10\n\n\n",
            "text/html": [
              "<style>\n",
              ".list-inline {list-style: none; margin:0; padding: 0}\n",
              ".list-inline>li {display: inline-block}\n",
              ".list-inline>li:not(:last-child)::after {content: \"\\00b7\"; padding: 0 .5ex}\n",
              "</style>\n",
              "<ol class=list-inline><li>1</li><li>2</li><li>3</li><li>4</li><li>5</li><li>6</li><li>7</li><li>8</li><li>9</li><li>10</li></ol>\n"
            ]
          },
          "metadata": {}
        },
        {
          "output_type": "display_data",
          "data": {
            "text/plain": [
              "[1] 1.5 2.5 3.5 4.5 5.5 6.5"
            ],
            "text/latex": "\\begin{enumerate*}\n\\item 1.5\n\\item 2.5\n\\item 3.5\n\\item 4.5\n\\item 5.5\n\\item 6.5\n\\end{enumerate*}\n",
            "text/markdown": "1. 1.5\n2. 2.5\n3. 3.5\n4. 4.5\n5. 5.5\n6. 6.5\n\n\n",
            "text/html": [
              "<style>\n",
              ".list-inline {list-style: none; margin:0; padding: 0}\n",
              ".list-inline>li {display: inline-block}\n",
              ".list-inline>li:not(:last-child)::after {content: \"\\00b7\"; padding: 0 .5ex}\n",
              "</style>\n",
              "<ol class=list-inline><li>1.5</li><li>2.5</li><li>3.5</li><li>4.5</li><li>5.5</li><li>6.5</li></ol>\n"
            ]
          },
          "metadata": {}
        },
        {
          "output_type": "display_data",
          "data": {
            "text/plain": [
              "[1] 1.5 2.5 3.5 4.5 5.5"
            ],
            "text/latex": "\\begin{enumerate*}\n\\item 1.5\n\\item 2.5\n\\item 3.5\n\\item 4.5\n\\item 5.5\n\\end{enumerate*}\n",
            "text/markdown": "1. 1.5\n2. 2.5\n3. 3.5\n4. 4.5\n5. 5.5\n\n\n",
            "text/html": [
              "<style>\n",
              ".list-inline {list-style: none; margin:0; padding: 0}\n",
              ".list-inline>li {display: inline-block}\n",
              ".list-inline>li:not(:last-child)::after {content: \"\\00b7\"; padding: 0 .5ex}\n",
              "</style>\n",
              "<ol class=list-inline><li>1.5</li><li>2.5</li><li>3.5</li><li>4.5</li><li>5.5</li></ol>\n"
            ]
          },
          "metadata": {}
        },
        {
          "output_type": "display_data",
          "data": {
            "text/plain": [
              "[1]  TRUE FALSE  TRUE FALSE"
            ],
            "text/latex": "\\begin{enumerate*}\n\\item TRUE\n\\item FALSE\n\\item TRUE\n\\item FALSE\n\\end{enumerate*}\n",
            "text/markdown": "1. TRUE\n2. FALSE\n3. TRUE\n4. FALSE\n\n\n",
            "text/html": [
              "<style>\n",
              ".list-inline {list-style: none; margin:0; padding: 0}\n",
              ".list-inline>li {display: inline-block}\n",
              ".list-inline>li:not(:last-child)::after {content: \"\\00b7\"; padding: 0 .5ex}\n",
              "</style>\n",
              "<ol class=list-inline><li>TRUE</li><li>FALSE</li><li>TRUE</li><li>FALSE</li></ol>\n"
            ]
          },
          "metadata": {}
        },
        {
          "output_type": "display_data",
          "data": {
            "text/plain": [
              "[1] 3"
            ],
            "text/latex": "3",
            "text/markdown": "3",
            "text/html": [
              "3"
            ]
          },
          "metadata": {}
        },
        {
          "output_type": "display_data",
          "data": {
            "text/plain": [
              "[1] \"apple\"  \"banana\" \"lemon\"  \"mango\"  \"orange\""
            ],
            "text/latex": "\\begin{enumerate*}\n\\item 'apple'\n\\item 'banana'\n\\item 'lemon'\n\\item 'mango'\n\\item 'orange'\n\\end{enumerate*}\n",
            "text/markdown": "1. 'apple'\n2. 'banana'\n3. 'lemon'\n4. 'mango'\n5. 'orange'\n\n\n",
            "text/html": [
              "<style>\n",
              ".list-inline {list-style: none; margin:0; padding: 0}\n",
              ".list-inline>li {display: inline-block}\n",
              ".list-inline>li:not(:last-child)::after {content: \"\\00b7\"; padding: 0 .5ex}\n",
              "</style>\n",
              "<ol class=list-inline><li>'apple'</li><li>'banana'</li><li>'lemon'</li><li>'mango'</li><li>'orange'</li></ol>\n"
            ]
          },
          "metadata": {}
        },
        {
          "output_type": "display_data",
          "data": {
            "text/plain": [
              "[1]  2  3  5  7 13 20"
            ],
            "text/latex": "\\begin{enumerate*}\n\\item 2\n\\item 3\n\\item 5\n\\item 7\n\\item 13\n\\item 20\n\\end{enumerate*}\n",
            "text/markdown": "1. 2\n2. 3\n3. 5\n4. 7\n5. 13\n6. 20\n\n\n",
            "text/html": [
              "<style>\n",
              ".list-inline {list-style: none; margin:0; padding: 0}\n",
              ".list-inline>li {display: inline-block}\n",
              ".list-inline>li:not(:last-child)::after {content: \"\\00b7\"; padding: 0 .5ex}\n",
              "</style>\n",
              "<ol class=list-inline><li>2</li><li>3</li><li>5</li><li>7</li><li>13</li><li>20</li></ol>\n"
            ]
          },
          "metadata": {}
        },
        {
          "output_type": "display_data",
          "data": {
            "text/plain": [
              "[1] \"banana\""
            ],
            "text/latex": "'banana'",
            "text/markdown": "'banana'",
            "text/html": [
              "'banana'"
            ]
          },
          "metadata": {}
        },
        {
          "output_type": "display_data",
          "data": {
            "text/plain": [
              "[1] \"banana\" \"orange\""
            ],
            "text/latex": "\\begin{enumerate*}\n\\item 'banana'\n\\item 'orange'\n\\end{enumerate*}\n",
            "text/markdown": "1. 'banana'\n2. 'orange'\n\n\n",
            "text/html": [
              "<style>\n",
              ".list-inline {list-style: none; margin:0; padding: 0}\n",
              ".list-inline>li {display: inline-block}\n",
              ".list-inline>li:not(:last-child)::after {content: \"\\00b7\"; padding: 0 .5ex}\n",
              "</style>\n",
              "<ol class=list-inline><li>'banana'</li><li>'orange'</li></ol>\n"
            ]
          },
          "metadata": {}
        },
        {
          "output_type": "display_data",
          "data": {
            "text/plain": [
              "[1] \"apple\"  \"orange\" \"mango\"  \"lemon\" "
            ],
            "text/latex": "\\begin{enumerate*}\n\\item 'apple'\n\\item 'orange'\n\\item 'mango'\n\\item 'lemon'\n\\end{enumerate*}\n",
            "text/markdown": "1. 'apple'\n2. 'orange'\n3. 'mango'\n4. 'lemon'\n\n\n",
            "text/html": [
              "<style>\n",
              ".list-inline {list-style: none; margin:0; padding: 0}\n",
              ".list-inline>li {display: inline-block}\n",
              ".list-inline>li:not(:last-child)::after {content: \"\\00b7\"; padding: 0 .5ex}\n",
              "</style>\n",
              "<ol class=list-inline><li>'apple'</li><li>'orange'</li><li>'mango'</li><li>'lemon'</li></ol>\n"
            ]
          },
          "metadata": {}
        },
        {
          "output_type": "display_data",
          "data": {
            "text/plain": [
              "[1] \"pear\"   \"apple\"  \"orange\" \"mango\"  \"lemon\" "
            ],
            "text/latex": "\\begin{enumerate*}\n\\item 'pear'\n\\item 'apple'\n\\item 'orange'\n\\item 'mango'\n\\item 'lemon'\n\\end{enumerate*}\n",
            "text/markdown": "1. 'pear'\n2. 'apple'\n3. 'orange'\n4. 'mango'\n5. 'lemon'\n\n\n",
            "text/html": [
              "<style>\n",
              ".list-inline {list-style: none; margin:0; padding: 0}\n",
              ".list-inline>li {display: inline-block}\n",
              ".list-inline>li:not(:last-child)::after {content: \"\\00b7\"; padding: 0 .5ex}\n",
              "</style>\n",
              "<ol class=list-inline><li>'pear'</li><li>'apple'</li><li>'orange'</li><li>'mango'</li><li>'lemon'</li></ol>\n"
            ]
          },
          "metadata": {}
        },
        {
          "output_type": "display_data",
          "data": {
            "text/plain": [
              "[1] 1 1 1 2 2 2 3 3 3"
            ],
            "text/latex": "\\begin{enumerate*}\n\\item 1\n\\item 1\n\\item 1\n\\item 2\n\\item 2\n\\item 2\n\\item 3\n\\item 3\n\\item 3\n\\end{enumerate*}\n",
            "text/markdown": "1. 1\n2. 1\n3. 1\n4. 2\n5. 2\n6. 2\n7. 3\n8. 3\n9. 3\n\n\n",
            "text/html": [
              "<style>\n",
              ".list-inline {list-style: none; margin:0; padding: 0}\n",
              ".list-inline>li {display: inline-block}\n",
              ".list-inline>li:not(:last-child)::after {content: \"\\00b7\"; padding: 0 .5ex}\n",
              "</style>\n",
              "<ol class=list-inline><li>1</li><li>1</li><li>1</li><li>2</li><li>2</li><li>2</li><li>3</li><li>3</li><li>3</li></ol>\n"
            ]
          },
          "metadata": {}
        },
        {
          "output_type": "display_data",
          "data": {
            "text/plain": [
              "[1] 1 2 3 1 2 3 1 2 3"
            ],
            "text/latex": "\\begin{enumerate*}\n\\item 1\n\\item 2\n\\item 3\n\\item 1\n\\item 2\n\\item 3\n\\item 1\n\\item 2\n\\item 3\n\\end{enumerate*}\n",
            "text/markdown": "1. 1\n2. 2\n3. 3\n4. 1\n5. 2\n6. 3\n7. 1\n8. 2\n9. 3\n\n\n",
            "text/html": [
              "<style>\n",
              ".list-inline {list-style: none; margin:0; padding: 0}\n",
              ".list-inline>li {display: inline-block}\n",
              ".list-inline>li:not(:last-child)::after {content: \"\\00b7\"; padding: 0 .5ex}\n",
              "</style>\n",
              "<ol class=list-inline><li>1</li><li>2</li><li>3</li><li>1</li><li>2</li><li>3</li><li>1</li><li>2</li><li>3</li></ol>\n"
            ]
          },
          "metadata": {}
        },
        {
          "output_type": "display_data",
          "data": {
            "text/plain": [
              "[1] 1 1 1 1 1 2 2 3"
            ],
            "text/latex": "\\begin{enumerate*}\n\\item 1\n\\item 1\n\\item 1\n\\item 1\n\\item 1\n\\item 2\n\\item 2\n\\item 3\n\\end{enumerate*}\n",
            "text/markdown": "1. 1\n2. 1\n3. 1\n4. 1\n5. 1\n6. 2\n7. 2\n8. 3\n\n\n",
            "text/html": [
              "<style>\n",
              ".list-inline {list-style: none; margin:0; padding: 0}\n",
              ".list-inline>li {display: inline-block}\n",
              ".list-inline>li:not(:last-child)::after {content: \"\\00b7\"; padding: 0 .5ex}\n",
              "</style>\n",
              "<ol class=list-inline><li>1</li><li>1</li><li>1</li><li>1</li><li>1</li><li>2</li><li>2</li><li>3</li></ol>\n"
            ]
          },
          "metadata": {}
        },
        {
          "output_type": "display_data",
          "data": {
            "text/plain": [
              " [1]  1  2  3  4  5  6  7  8  9 10"
            ],
            "text/latex": "\\begin{enumerate*}\n\\item 1\n\\item 2\n\\item 3\n\\item 4\n\\item 5\n\\item 6\n\\item 7\n\\item 8\n\\item 9\n\\item 10\n\\end{enumerate*}\n",
            "text/markdown": "1. 1\n2. 2\n3. 3\n4. 4\n5. 5\n6. 6\n7. 7\n8. 8\n9. 9\n10. 10\n\n\n",
            "text/html": [
              "<style>\n",
              ".list-inline {list-style: none; margin:0; padding: 0}\n",
              ".list-inline>li {display: inline-block}\n",
              ".list-inline>li:not(:last-child)::after {content: \"\\00b7\"; padding: 0 .5ex}\n",
              "</style>\n",
              "<ol class=list-inline><li>1</li><li>2</li><li>3</li><li>4</li><li>5</li><li>6</li><li>7</li><li>8</li><li>9</li><li>10</li></ol>\n"
            ]
          },
          "metadata": {}
        },
        {
          "output_type": "display_data",
          "data": {
            "text/plain": [
              "[1]   0  20  40  60  80 100"
            ],
            "text/latex": "\\begin{enumerate*}\n\\item 0\n\\item 20\n\\item 40\n\\item 60\n\\item 80\n\\item 100\n\\end{enumerate*}\n",
            "text/markdown": "1. 0\n2. 20\n3. 40\n4. 60\n5. 80\n6. 100\n\n\n",
            "text/html": [
              "<style>\n",
              ".list-inline {list-style: none; margin:0; padding: 0}\n",
              ".list-inline>li {display: inline-block}\n",
              ".list-inline>li:not(:last-child)::after {content: \"\\00b7\"; padding: 0 .5ex}\n",
              "</style>\n",
              "<ol class=list-inline><li>0</li><li>20</li><li>40</li><li>60</li><li>80</li><li>100</li></ol>\n"
            ]
          },
          "metadata": {}
        }
      ]
    },
    {
      "cell_type": "code",
      "metadata": {
        "id": "BHWHBjuI_qYA",
        "colab": {
          "base_uri": "https://localhost:8080/",
          "height": 711
        },
        "outputId": "0c6a2712-2bdd-4035-f9e2-a3c7f5bf8946"
      },
      "source": [
        "# R Lists \n",
        "# ordered and changeable \n",
        "\n",
        "# List of strings \n",
        "thislist <- list(\"apple\", \"banana\", \"cherry\")\n",
        "thislist\n",
        "\n",
        "# accesslist \n",
        "thislist[1]\n",
        "\n",
        "# change item value \n",
        "thislist[1] <- \"blackcurrant\"\n",
        "thislist\n",
        "\n",
        "# Listlength \n",
        "length(thislist)\n",
        "\n",
        "# check if item exists \n",
        "# %in% # return: boolean \n",
        "thislist <- list(\"apple\", \"banana\", \"cherry\")\n",
        "\"apple\" %in% thislist\n",
        "\n",
        "# add item \n",
        "thislist <- list(\"apple\", \"banana\", \"cherry\")\n",
        "append(thislist, \"orange\")\n",
        "\n",
        "# after = index number, append()\n",
        "thislist <- list(\"apple\", \"banana\", \"cherry\")\n",
        "append(thislist, \"orange\", after = 2) # after index = 2 \n",
        "\n",
        "# Remove List items \n",
        "thislist <- list(\"apple\", \"banana\", \"cherry\")\n",
        "newlist <- thislist[-1] #remove [1]\n",
        "newlist\n",
        "\n",
        "# Range of Indexes \n",
        "thislist <- list(\"apple\", \"banana\", \"cherry\", \"orange\", \"kiwi\", \"melon\", \"mango\")\n",
        "(thislist)[2:5]\n",
        "# [index 2 included : index 5 included]\n",
        "\n",
        "# Loop through a list \n",
        "thislist <- list(\"apple\", \"banana\", \"cherry\")\n",
        "\n",
        "for (x in thislist) {\n",
        "  print(x)\n",
        "}\n",
        "\n",
        "# Join Two Lists \n",
        "list1 <- list(\"a\", \"b\", \"c\")\n",
        "list2 <- list(1,2,3)\n",
        "list3 <- c(list1, list2)\n",
        "\n",
        "list3"
      ],
      "execution_count": null,
      "outputs": [
        {
          "output_type": "display_data",
          "data": {
            "text/plain": [
              "[[1]]\n",
              "[1] \"apple\"\n",
              "\n",
              "[[2]]\n",
              "[1] \"banana\"\n",
              "\n",
              "[[3]]\n",
              "[1] \"cherry\"\n"
            ],
            "text/latex": "\\begin{enumerate}\n\\item 'apple'\n\\item 'banana'\n\\item 'cherry'\n\\end{enumerate}\n",
            "text/markdown": "1. 'apple'\n2. 'banana'\n3. 'cherry'\n\n\n",
            "text/html": [
              "<ol>\n",
              "\t<li>'apple'</li>\n",
              "\t<li>'banana'</li>\n",
              "\t<li>'cherry'</li>\n",
              "</ol>\n"
            ]
          },
          "metadata": {}
        },
        {
          "output_type": "display_data",
          "data": {
            "text/plain": [
              "[[1]]\n",
              "[1] \"apple\"\n"
            ],
            "text/latex": "\\begin{enumerate}\n\\item 'apple'\n\\end{enumerate}\n",
            "text/markdown": "1. 'apple'\n\n\n",
            "text/html": [
              "<ol>\n",
              "\t<li>'apple'</li>\n",
              "</ol>\n"
            ]
          },
          "metadata": {}
        },
        {
          "output_type": "display_data",
          "data": {
            "text/plain": [
              "[[1]]\n",
              "[1] \"blackcurrant\"\n",
              "\n",
              "[[2]]\n",
              "[1] \"banana\"\n",
              "\n",
              "[[3]]\n",
              "[1] \"cherry\"\n"
            ],
            "text/latex": "\\begin{enumerate}\n\\item 'blackcurrant'\n\\item 'banana'\n\\item 'cherry'\n\\end{enumerate}\n",
            "text/markdown": "1. 'blackcurrant'\n2. 'banana'\n3. 'cherry'\n\n\n",
            "text/html": [
              "<ol>\n",
              "\t<li>'blackcurrant'</li>\n",
              "\t<li>'banana'</li>\n",
              "\t<li>'cherry'</li>\n",
              "</ol>\n"
            ]
          },
          "metadata": {}
        },
        {
          "output_type": "display_data",
          "data": {
            "text/plain": [
              "[1] 3"
            ],
            "text/latex": "3",
            "text/markdown": "3",
            "text/html": [
              "3"
            ]
          },
          "metadata": {}
        },
        {
          "output_type": "display_data",
          "data": {
            "text/plain": [
              "[1] TRUE"
            ],
            "text/latex": "TRUE",
            "text/markdown": "TRUE",
            "text/html": [
              "TRUE"
            ]
          },
          "metadata": {}
        },
        {
          "output_type": "display_data",
          "data": {
            "text/plain": [
              "[[1]]\n",
              "[1] \"apple\"\n",
              "\n",
              "[[2]]\n",
              "[1] \"banana\"\n",
              "\n",
              "[[3]]\n",
              "[1] \"cherry\"\n",
              "\n",
              "[[4]]\n",
              "[1] \"orange\"\n"
            ],
            "text/latex": "\\begin{enumerate}\n\\item 'apple'\n\\item 'banana'\n\\item 'cherry'\n\\item 'orange'\n\\end{enumerate}\n",
            "text/markdown": "1. 'apple'\n2. 'banana'\n3. 'cherry'\n4. 'orange'\n\n\n",
            "text/html": [
              "<ol>\n",
              "\t<li>'apple'</li>\n",
              "\t<li>'banana'</li>\n",
              "\t<li>'cherry'</li>\n",
              "\t<li>'orange'</li>\n",
              "</ol>\n"
            ]
          },
          "metadata": {}
        },
        {
          "output_type": "display_data",
          "data": {
            "text/plain": [
              "[[1]]\n",
              "[1] \"apple\"\n",
              "\n",
              "[[2]]\n",
              "[1] \"banana\"\n",
              "\n",
              "[[3]]\n",
              "[1] \"orange\"\n",
              "\n",
              "[[4]]\n",
              "[1] \"cherry\"\n"
            ],
            "text/latex": "\\begin{enumerate}\n\\item 'apple'\n\\item 'banana'\n\\item 'orange'\n\\item 'cherry'\n\\end{enumerate}\n",
            "text/markdown": "1. 'apple'\n2. 'banana'\n3. 'orange'\n4. 'cherry'\n\n\n",
            "text/html": [
              "<ol>\n",
              "\t<li>'apple'</li>\n",
              "\t<li>'banana'</li>\n",
              "\t<li>'orange'</li>\n",
              "\t<li>'cherry'</li>\n",
              "</ol>\n"
            ]
          },
          "metadata": {}
        },
        {
          "output_type": "display_data",
          "data": {
            "text/plain": [
              "[[1]]\n",
              "[1] \"banana\"\n",
              "\n",
              "[[2]]\n",
              "[1] \"cherry\"\n"
            ],
            "text/latex": "\\begin{enumerate}\n\\item 'banana'\n\\item 'cherry'\n\\end{enumerate}\n",
            "text/markdown": "1. 'banana'\n2. 'cherry'\n\n\n",
            "text/html": [
              "<ol>\n",
              "\t<li>'banana'</li>\n",
              "\t<li>'cherry'</li>\n",
              "</ol>\n"
            ]
          },
          "metadata": {}
        },
        {
          "output_type": "display_data",
          "data": {
            "text/plain": [
              "[[1]]\n",
              "[1] \"banana\"\n",
              "\n",
              "[[2]]\n",
              "[1] \"cherry\"\n",
              "\n",
              "[[3]]\n",
              "[1] \"orange\"\n",
              "\n",
              "[[4]]\n",
              "[1] \"kiwi\"\n"
            ],
            "text/latex": "\\begin{enumerate}\n\\item 'banana'\n\\item 'cherry'\n\\item 'orange'\n\\item 'kiwi'\n\\end{enumerate}\n",
            "text/markdown": "1. 'banana'\n2. 'cherry'\n3. 'orange'\n4. 'kiwi'\n\n\n",
            "text/html": [
              "<ol>\n",
              "\t<li>'banana'</li>\n",
              "\t<li>'cherry'</li>\n",
              "\t<li>'orange'</li>\n",
              "\t<li>'kiwi'</li>\n",
              "</ol>\n"
            ]
          },
          "metadata": {}
        },
        {
          "output_type": "stream",
          "name": "stdout",
          "text": [
            "[1] \"apple\"\n",
            "[1] \"banana\"\n",
            "[1] \"cherry\"\n"
          ]
        },
        {
          "output_type": "display_data",
          "data": {
            "text/plain": [
              "[[1]]\n",
              "[1] \"a\"\n",
              "\n",
              "[[2]]\n",
              "[1] \"b\"\n",
              "\n",
              "[[3]]\n",
              "[1] \"c\"\n",
              "\n",
              "[[4]]\n",
              "[1] 1\n",
              "\n",
              "[[5]]\n",
              "[1] 2\n",
              "\n",
              "[[6]]\n",
              "[1] 3\n"
            ],
            "text/latex": "\\begin{enumerate}\n\\item 'a'\n\\item 'b'\n\\item 'c'\n\\item 1\n\\item 2\n\\item 3\n\\end{enumerate}\n",
            "text/markdown": "1. 'a'\n2. 'b'\n3. 'c'\n4. 1\n5. 2\n6. 3\n\n\n",
            "text/html": [
              "<ol>\n",
              "\t<li>'a'</li>\n",
              "\t<li>'b'</li>\n",
              "\t<li>'c'</li>\n",
              "\t<li>1</li>\n",
              "\t<li>2</li>\n",
              "\t<li>3</li>\n",
              "</ol>\n"
            ]
          },
          "metadata": {}
        }
      ]
    },
    {
      "cell_type": "code",
      "metadata": {
        "id": "oYCyVZjQ_qd5",
        "colab": {
          "base_uri": "https://localhost:8080/",
          "height": 1000
        },
        "outputId": "cf3062e6-0fc8-4116-f4a1-498531e209f7"
      },
      "source": [
        "# R Matrices \n",
        "# Matrix: two dimensional data set with columns and rows \n",
        "# nrow, ncol \n",
        "\n",
        "# Create a matrix \n",
        "thismatrix <- matrix(c(1,2,3,4,5,6), nrow = 3, ncol = 2)\n",
        "thismatrix\n",
        "\n",
        "thismatrix2 <- matrix(c(\"apple\", \"banana\", \"cherry\", \"orange\"), nrow = 2, ncol = 2)\n",
        "thismatrix2\n",
        "\n",
        "# Access Matrix Items \n",
        "thismatrix2[1,2] # first row, second column\n",
        "thismatrix2[2,] # second row \n",
        "thismatrix2[,2] # second column \n",
        "\n",
        "# Access more than one row \n",
        "thismatrix4 <- matrix(c(\"apple\", \"banana\", \"cherry\", \"orange\", \"grape\", \"pineapple\", \"pear\", \"melon\", \"fig\"), nrow = 3, ncol = 3)\n",
        "print(\"thismatrix4\")\n",
        "thismatrix4 \n",
        "\n",
        "# access multiple columns \n",
        "thismatrix4[, c(1,2)] #nrow, ncol # c(col1, col2) \n",
        "\n",
        "# Add Rows and Columns #cbind()\n",
        "newmatrix <- cbind(thismatrix4, c(\"strawberry\", \"blueberry\", \"raspberry\"))\n",
        "newmatrix\n",
        "\n",
        "thismatrix5 <- matrix(c(\"apple\", \"banana\", \"cherry\", \"orange\", \"grape\", \"pineapple\", \"pear\", \"melon\", \"fig\"), nrow = 3, ncol = 3)\n",
        "newmatrix2 <- rbind(thismatrix5, c(\"strawberry\", \"blueberry\", \"raspberry\"))\n",
        "newmatrix2\n",
        "\n",
        "# Remove rows and columns \n",
        "thismatrix4\n",
        "thismatrix6 <- thismatrix4[-c(1), -c(1)]\n",
        "thismatrix6\n",
        "\n",
        "# check if an item exists \n",
        "\"apple\" %in% thismatrix6 \n",
        "\"grape\" %in% thismatrix6\n",
        "\n",
        "# amount of rows and columns #dim()\n",
        "dim(thismatrix6) # 2-2 \n",
        "dim(thismatrix4) # 3-3\n",
        "\n",
        "# Matrix Length \n",
        "length(thismatrix6) # 4 \n",
        "length(thismatrix4) #9 \n",
        "\n",
        "# Loop through a Matrix \n",
        "thismatrix <- matrix(c(\"apple\", \"banana\", \"cherry\", \"orange\"), nrow = 2, ncol = 2)\n",
        "thismatrix\n",
        "\n",
        "for (rows in 1:nrow(thismatrix)) {\n",
        "  for (columns in 1:ncol(thismatrix)) { \n",
        "    print(thismatrix[rows,columns])\n",
        "  }\n",
        "}\n",
        "\n",
        "# Combine two matrices \n",
        "# rbind(), cbind()\n",
        "\n",
        "Matrix1 <- matrix(c(\"apple\", \"banana\", \"cherry\", \"grape\"), nrow = 2, ncol = 2)\n",
        "Matrix1 \n",
        "Matrix2 <- matrix(c(\"orange\", \"mango\", \"pineapple\", \"watermelon\"), nrow = 2, ncol = 2)\n",
        "Matrix2\n",
        "\n",
        "Matrix_rcombined <- rbind(Matrix1, Matrix2)\n",
        "Matrix_rcombined\n",
        "\n",
        "Matrix_ccombined <- cbind(Matrix1, Matrix2)\n",
        "Matrix_ccombined"
      ],
      "execution_count": null,
      "outputs": [
        {
          "output_type": "display_data",
          "data": {
            "text/plain": [
              "     [,1] [,2]\n",
              "[1,] 1    4   \n",
              "[2,] 2    5   \n",
              "[3,] 3    6   "
            ],
            "text/latex": "A matrix: 3 × 2 of type dbl\n\\begin{tabular}{ll}\n\t 1 & 4\\\\\n\t 2 & 5\\\\\n\t 3 & 6\\\\\n\\end{tabular}\n",
            "text/markdown": "\nA matrix: 3 × 2 of type dbl\n\n| 1 | 4 |\n| 2 | 5 |\n| 3 | 6 |\n\n",
            "text/html": [
              "<table class=\"dataframe\">\n",
              "<caption>A matrix: 3 × 2 of type dbl</caption>\n",
              "<tbody>\n",
              "\t<tr><td>1</td><td>4</td></tr>\n",
              "\t<tr><td>2</td><td>5</td></tr>\n",
              "\t<tr><td>3</td><td>6</td></tr>\n",
              "</tbody>\n",
              "</table>\n"
            ]
          },
          "metadata": {}
        },
        {
          "output_type": "display_data",
          "data": {
            "text/plain": [
              "     [,1]   [,2]  \n",
              "[1,] apple  cherry\n",
              "[2,] banana orange"
            ],
            "text/latex": "A matrix: 2 × 2 of type chr\n\\begin{tabular}{ll}\n\t apple  & cherry\\\\\n\t banana & orange\\\\\n\\end{tabular}\n",
            "text/markdown": "\nA matrix: 2 × 2 of type chr\n\n| apple  | cherry |\n| banana | orange |\n\n",
            "text/html": [
              "<table class=\"dataframe\">\n",
              "<caption>A matrix: 2 × 2 of type chr</caption>\n",
              "<tbody>\n",
              "\t<tr><td>apple </td><td>cherry</td></tr>\n",
              "\t<tr><td>banana</td><td>orange</td></tr>\n",
              "</tbody>\n",
              "</table>\n"
            ]
          },
          "metadata": {}
        },
        {
          "output_type": "display_data",
          "data": {
            "text/plain": [
              "[1] \"cherry\""
            ],
            "text/latex": "'cherry'",
            "text/markdown": "'cherry'",
            "text/html": [
              "'cherry'"
            ]
          },
          "metadata": {}
        },
        {
          "output_type": "display_data",
          "data": {
            "text/plain": [
              "[1] \"banana\" \"orange\""
            ],
            "text/latex": "\\begin{enumerate*}\n\\item 'banana'\n\\item 'orange'\n\\end{enumerate*}\n",
            "text/markdown": "1. 'banana'\n2. 'orange'\n\n\n",
            "text/html": [
              "<style>\n",
              ".list-inline {list-style: none; margin:0; padding: 0}\n",
              ".list-inline>li {display: inline-block}\n",
              ".list-inline>li:not(:last-child)::after {content: \"\\00b7\"; padding: 0 .5ex}\n",
              "</style>\n",
              "<ol class=list-inline><li>'banana'</li><li>'orange'</li></ol>\n"
            ]
          },
          "metadata": {}
        },
        {
          "output_type": "display_data",
          "data": {
            "text/plain": [
              "[1] \"cherry\" \"orange\""
            ],
            "text/latex": "\\begin{enumerate*}\n\\item 'cherry'\n\\item 'orange'\n\\end{enumerate*}\n",
            "text/markdown": "1. 'cherry'\n2. 'orange'\n\n\n",
            "text/html": [
              "<style>\n",
              ".list-inline {list-style: none; margin:0; padding: 0}\n",
              ".list-inline>li {display: inline-block}\n",
              ".list-inline>li:not(:last-child)::after {content: \"\\00b7\"; padding: 0 .5ex}\n",
              "</style>\n",
              "<ol class=list-inline><li>'cherry'</li><li>'orange'</li></ol>\n"
            ]
          },
          "metadata": {}
        },
        {
          "output_type": "stream",
          "name": "stdout",
          "text": [
            "[1] \"thismatrix4\"\n"
          ]
        },
        {
          "output_type": "display_data",
          "data": {
            "text/plain": [
              "     [,1]   [,2]      [,3] \n",
              "[1,] apple  orange    pear \n",
              "[2,] banana grape     melon\n",
              "[3,] cherry pineapple fig  "
            ],
            "text/latex": "A matrix: 3 × 3 of type chr\n\\begin{tabular}{lll}\n\t apple  & orange    & pear \\\\\n\t banana & grape     & melon\\\\\n\t cherry & pineapple & fig  \\\\\n\\end{tabular}\n",
            "text/markdown": "\nA matrix: 3 × 3 of type chr\n\n| apple  | orange    | pear  |\n| banana | grape     | melon |\n| cherry | pineapple | fig   |\n\n",
            "text/html": [
              "<table class=\"dataframe\">\n",
              "<caption>A matrix: 3 × 3 of type chr</caption>\n",
              "<tbody>\n",
              "\t<tr><td>apple </td><td>orange   </td><td>pear </td></tr>\n",
              "\t<tr><td>banana</td><td>grape    </td><td>melon</td></tr>\n",
              "\t<tr><td>cherry</td><td>pineapple</td><td>fig  </td></tr>\n",
              "</tbody>\n",
              "</table>\n"
            ]
          },
          "metadata": {}
        },
        {
          "output_type": "display_data",
          "data": {
            "text/plain": [
              "     [,1]   [,2]     \n",
              "[1,] apple  orange   \n",
              "[2,] banana grape    \n",
              "[3,] cherry pineapple"
            ],
            "text/latex": "A matrix: 3 × 2 of type chr\n\\begin{tabular}{ll}\n\t apple  & orange   \\\\\n\t banana & grape    \\\\\n\t cherry & pineapple\\\\\n\\end{tabular}\n",
            "text/markdown": "\nA matrix: 3 × 2 of type chr\n\n| apple  | orange    |\n| banana | grape     |\n| cherry | pineapple |\n\n",
            "text/html": [
              "<table class=\"dataframe\">\n",
              "<caption>A matrix: 3 × 2 of type chr</caption>\n",
              "<tbody>\n",
              "\t<tr><td>apple </td><td>orange   </td></tr>\n",
              "\t<tr><td>banana</td><td>grape    </td></tr>\n",
              "\t<tr><td>cherry</td><td>pineapple</td></tr>\n",
              "</tbody>\n",
              "</table>\n"
            ]
          },
          "metadata": {}
        },
        {
          "output_type": "display_data",
          "data": {
            "text/plain": [
              "     [,1]   [,2]      [,3]  [,4]      \n",
              "[1,] apple  orange    pear  strawberry\n",
              "[2,] banana grape     melon blueberry \n",
              "[3,] cherry pineapple fig   raspberry "
            ],
            "text/latex": "A matrix: 3 × 4 of type chr\n\\begin{tabular}{llll}\n\t apple  & orange    & pear  & strawberry\\\\\n\t banana & grape     & melon & blueberry \\\\\n\t cherry & pineapple & fig   & raspberry \\\\\n\\end{tabular}\n",
            "text/markdown": "\nA matrix: 3 × 4 of type chr\n\n| apple  | orange    | pear  | strawberry |\n| banana | grape     | melon | blueberry  |\n| cherry | pineapple | fig   | raspberry  |\n\n",
            "text/html": [
              "<table class=\"dataframe\">\n",
              "<caption>A matrix: 3 × 4 of type chr</caption>\n",
              "<tbody>\n",
              "\t<tr><td>apple </td><td>orange   </td><td>pear </td><td>strawberry</td></tr>\n",
              "\t<tr><td>banana</td><td>grape    </td><td>melon</td><td>blueberry </td></tr>\n",
              "\t<tr><td>cherry</td><td>pineapple</td><td>fig  </td><td>raspberry </td></tr>\n",
              "</tbody>\n",
              "</table>\n"
            ]
          },
          "metadata": {}
        },
        {
          "output_type": "display_data",
          "data": {
            "text/plain": [
              "     [,1]       [,2]      [,3]     \n",
              "[1,] apple      orange    pear     \n",
              "[2,] banana     grape     melon    \n",
              "[3,] cherry     pineapple fig      \n",
              "[4,] strawberry blueberry raspberry"
            ],
            "text/latex": "A matrix: 4 × 3 of type chr\n\\begin{tabular}{lll}\n\t apple      & orange    & pear     \\\\\n\t banana     & grape     & melon    \\\\\n\t cherry     & pineapple & fig      \\\\\n\t strawberry & blueberry & raspberry\\\\\n\\end{tabular}\n",
            "text/markdown": "\nA matrix: 4 × 3 of type chr\n\n| apple      | orange    | pear      |\n| banana     | grape     | melon     |\n| cherry     | pineapple | fig       |\n| strawberry | blueberry | raspberry |\n\n",
            "text/html": [
              "<table class=\"dataframe\">\n",
              "<caption>A matrix: 4 × 3 of type chr</caption>\n",
              "<tbody>\n",
              "\t<tr><td>apple     </td><td>orange   </td><td>pear     </td></tr>\n",
              "\t<tr><td>banana    </td><td>grape    </td><td>melon    </td></tr>\n",
              "\t<tr><td>cherry    </td><td>pineapple</td><td>fig      </td></tr>\n",
              "\t<tr><td>strawberry</td><td>blueberry</td><td>raspberry</td></tr>\n",
              "</tbody>\n",
              "</table>\n"
            ]
          },
          "metadata": {}
        },
        {
          "output_type": "display_data",
          "data": {
            "text/plain": [
              "     [,1]   [,2]      [,3] \n",
              "[1,] apple  orange    pear \n",
              "[2,] banana grape     melon\n",
              "[3,] cherry pineapple fig  "
            ],
            "text/latex": "A matrix: 3 × 3 of type chr\n\\begin{tabular}{lll}\n\t apple  & orange    & pear \\\\\n\t banana & grape     & melon\\\\\n\t cherry & pineapple & fig  \\\\\n\\end{tabular}\n",
            "text/markdown": "\nA matrix: 3 × 3 of type chr\n\n| apple  | orange    | pear  |\n| banana | grape     | melon |\n| cherry | pineapple | fig   |\n\n",
            "text/html": [
              "<table class=\"dataframe\">\n",
              "<caption>A matrix: 3 × 3 of type chr</caption>\n",
              "<tbody>\n",
              "\t<tr><td>apple </td><td>orange   </td><td>pear </td></tr>\n",
              "\t<tr><td>banana</td><td>grape    </td><td>melon</td></tr>\n",
              "\t<tr><td>cherry</td><td>pineapple</td><td>fig  </td></tr>\n",
              "</tbody>\n",
              "</table>\n"
            ]
          },
          "metadata": {}
        },
        {
          "output_type": "display_data",
          "data": {
            "text/plain": [
              "     [,1]      [,2] \n",
              "[1,] grape     melon\n",
              "[2,] pineapple fig  "
            ],
            "text/latex": "A matrix: 2 × 2 of type chr\n\\begin{tabular}{ll}\n\t grape     & melon\\\\\n\t pineapple & fig  \\\\\n\\end{tabular}\n",
            "text/markdown": "\nA matrix: 2 × 2 of type chr\n\n| grape     | melon |\n| pineapple | fig   |\n\n",
            "text/html": [
              "<table class=\"dataframe\">\n",
              "<caption>A matrix: 2 × 2 of type chr</caption>\n",
              "<tbody>\n",
              "\t<tr><td>grape    </td><td>melon</td></tr>\n",
              "\t<tr><td>pineapple</td><td>fig  </td></tr>\n",
              "</tbody>\n",
              "</table>\n"
            ]
          },
          "metadata": {}
        },
        {
          "output_type": "display_data",
          "data": {
            "text/plain": [
              "[1] FALSE"
            ],
            "text/latex": "FALSE",
            "text/markdown": "FALSE",
            "text/html": [
              "FALSE"
            ]
          },
          "metadata": {}
        },
        {
          "output_type": "display_data",
          "data": {
            "text/plain": [
              "[1] TRUE"
            ],
            "text/latex": "TRUE",
            "text/markdown": "TRUE",
            "text/html": [
              "TRUE"
            ]
          },
          "metadata": {}
        },
        {
          "output_type": "display_data",
          "data": {
            "text/plain": [
              "[1] 2 2"
            ],
            "text/latex": "\\begin{enumerate*}\n\\item 2\n\\item 2\n\\end{enumerate*}\n",
            "text/markdown": "1. 2\n2. 2\n\n\n",
            "text/html": [
              "<style>\n",
              ".list-inline {list-style: none; margin:0; padding: 0}\n",
              ".list-inline>li {display: inline-block}\n",
              ".list-inline>li:not(:last-child)::after {content: \"\\00b7\"; padding: 0 .5ex}\n",
              "</style>\n",
              "<ol class=list-inline><li>2</li><li>2</li></ol>\n"
            ]
          },
          "metadata": {}
        },
        {
          "output_type": "display_data",
          "data": {
            "text/plain": [
              "[1] 3 3"
            ],
            "text/latex": "\\begin{enumerate*}\n\\item 3\n\\item 3\n\\end{enumerate*}\n",
            "text/markdown": "1. 3\n2. 3\n\n\n",
            "text/html": [
              "<style>\n",
              ".list-inline {list-style: none; margin:0; padding: 0}\n",
              ".list-inline>li {display: inline-block}\n",
              ".list-inline>li:not(:last-child)::after {content: \"\\00b7\"; padding: 0 .5ex}\n",
              "</style>\n",
              "<ol class=list-inline><li>3</li><li>3</li></ol>\n"
            ]
          },
          "metadata": {}
        },
        {
          "output_type": "display_data",
          "data": {
            "text/plain": [
              "[1] 4"
            ],
            "text/latex": "4",
            "text/markdown": "4",
            "text/html": [
              "4"
            ]
          },
          "metadata": {}
        },
        {
          "output_type": "display_data",
          "data": {
            "text/plain": [
              "[1] 9"
            ],
            "text/latex": "9",
            "text/markdown": "9",
            "text/html": [
              "9"
            ]
          },
          "metadata": {}
        },
        {
          "output_type": "stream",
          "name": "stdout",
          "text": [
            "[1] \"apple\"\n",
            "[1] \"cherry\"\n",
            "[1] \"banana\"\n",
            "[1] \"orange\"\n"
          ]
        }
      ]
    },
    {
      "cell_type": "code",
      "metadata": {
        "id": "COwmVGYP_qlv",
        "colab": {
          "base_uri": "https://localhost:8080/",
          "height": 84
        },
        "outputId": "79d092e6-f19a-488b-a598-3832c00b1d74"
      },
      "source": [
        "# R Arrays \n",
        "# arrays have more than two dimensions \n",
        "thisarray <- c(1:24)\n",
        "thisarray \n",
        "\n",
        "# An array with more than one dimension \n",
        "multiarray <- array(thisarray, dim = c(4,3,2))\n",
        "# dim = c(4,3,2) > (nrow, ncol, ndim)\n",
        "multiarray\n",
        "\n",
        "# Access Array items \n",
        "thisarray <- c(1:24)\n",
        "multiarray <- array(thisarray, dim = c(4,3,2))\n",
        "multiarray \n",
        "\n",
        "# Error(?) : multiarray가 안 먹음 (모양이 안 잡힘)\n",
        "\n",
        "multiarray[2,3,2] # access the desired item from the array \n",
        "                  # [row, col, matrix level]\n"
      ],
      "execution_count": null,
      "outputs": [
        {
          "output_type": "display_data",
          "data": {
            "text/plain": [
              " [1]  1  2  3  4  5  6  7  8  9 10 11 12 13 14 15 16 17 18 19 20 21 22 23 24"
            ],
            "text/latex": "\\begin{enumerate*}\n\\item 1\n\\item 2\n\\item 3\n\\item 4\n\\item 5\n\\item 6\n\\item 7\n\\item 8\n\\item 9\n\\item 10\n\\item 11\n\\item 12\n\\item 13\n\\item 14\n\\item 15\n\\item 16\n\\item 17\n\\item 18\n\\item 19\n\\item 20\n\\item 21\n\\item 22\n\\item 23\n\\item 24\n\\end{enumerate*}\n",
            "text/markdown": "1. 1\n2. 2\n3. 3\n4. 4\n5. 5\n6. 6\n7. 7\n8. 8\n9. 9\n10. 10\n11. 11\n12. 12\n13. 13\n14. 14\n15. 15\n16. 16\n17. 17\n18. 18\n19. 19\n20. 20\n21. 21\n22. 22\n23. 23\n24. 24\n\n\n",
            "text/html": [
              "<style>\n",
              ".list-inline {list-style: none; margin:0; padding: 0}\n",
              ".list-inline>li {display: inline-block}\n",
              ".list-inline>li:not(:last-child)::after {content: \"\\00b7\"; padding: 0 .5ex}\n",
              "</style>\n",
              "<ol class=list-inline><li>1</li><li>2</li><li>3</li><li>4</li><li>5</li><li>6</li><li>7</li><li>8</li><li>9</li><li>10</li><li>11</li><li>12</li><li>13</li><li>14</li><li>15</li><li>16</li><li>17</li><li>18</li><li>19</li><li>20</li><li>21</li><li>22</li><li>23</li><li>24</li></ol>\n"
            ]
          },
          "metadata": {}
        },
        {
          "output_type": "display_data",
          "data": {
            "text/plain": [
              ", , 1\n",
              "\n",
              "     [,1] [,2] [,3]\n",
              "[1,]    1    5    9\n",
              "[2,]    2    6   10\n",
              "[3,]    3    7   11\n",
              "[4,]    4    8   12\n",
              "\n",
              ", , 2\n",
              "\n",
              "     [,1] [,2] [,3]\n",
              "[1,]   13   17   21\n",
              "[2,]   14   18   22\n",
              "[3,]   15   19   23\n",
              "[4,]   16   20   24\n"
            ],
            "text/latex": "\\begin{enumerate*}\n\\item 1\n\\item 2\n\\item 3\n\\item 4\n\\item 5\n\\item 6\n\\item 7\n\\item 8\n\\item 9\n\\item 10\n\\item 11\n\\item 12\n\\item 13\n\\item 14\n\\item 15\n\\item 16\n\\item 17\n\\item 18\n\\item 19\n\\item 20\n\\item 21\n\\item 22\n\\item 23\n\\item 24\n\\end{enumerate*}\n",
            "text/markdown": "1. 1\n2. 2\n3. 3\n4. 4\n5. 5\n6. 6\n7. 7\n8. 8\n9. 9\n10. 10\n11. 11\n12. 12\n13. 13\n14. 14\n15. 15\n16. 16\n17. 17\n18. 18\n19. 19\n20. 20\n21. 21\n22. 22\n23. 23\n24. 24\n\n\n",
            "text/html": [
              "<style>\n",
              ".list-inline {list-style: none; margin:0; padding: 0}\n",
              ".list-inline>li {display: inline-block}\n",
              ".list-inline>li:not(:last-child)::after {content: \"\\00b7\"; padding: 0 .5ex}\n",
              "</style>\n",
              "<ol class=list-inline><li>1</li><li>2</li><li>3</li><li>4</li><li>5</li><li>6</li><li>7</li><li>8</li><li>9</li><li>10</li><li>11</li><li>12</li><li>13</li><li>14</li><li>15</li><li>16</li><li>17</li><li>18</li><li>19</li><li>20</li><li>21</li><li>22</li><li>23</li><li>24</li></ol>\n"
            ]
          },
          "metadata": {}
        },
        {
          "output_type": "display_data",
          "data": {
            "text/plain": [
              ", , 1\n",
              "\n",
              "     [,1] [,2] [,3]\n",
              "[1,]    1    5    9\n",
              "[2,]    2    6   10\n",
              "[3,]    3    7   11\n",
              "[4,]    4    8   12\n",
              "\n",
              ", , 2\n",
              "\n",
              "     [,1] [,2] [,3]\n",
              "[1,]   13   17   21\n",
              "[2,]   14   18   22\n",
              "[3,]   15   19   23\n",
              "[4,]   16   20   24\n"
            ],
            "text/latex": "\\begin{enumerate*}\n\\item 1\n\\item 2\n\\item 3\n\\item 4\n\\item 5\n\\item 6\n\\item 7\n\\item 8\n\\item 9\n\\item 10\n\\item 11\n\\item 12\n\\item 13\n\\item 14\n\\item 15\n\\item 16\n\\item 17\n\\item 18\n\\item 19\n\\item 20\n\\item 21\n\\item 22\n\\item 23\n\\item 24\n\\end{enumerate*}\n",
            "text/markdown": "1. 1\n2. 2\n3. 3\n4. 4\n5. 5\n6. 6\n7. 7\n8. 8\n9. 9\n10. 10\n11. 11\n12. 12\n13. 13\n14. 14\n15. 15\n16. 16\n17. 17\n18. 18\n19. 19\n20. 20\n21. 21\n22. 22\n23. 23\n24. 24\n\n\n",
            "text/html": [
              "<style>\n",
              ".list-inline {list-style: none; margin:0; padding: 0}\n",
              ".list-inline>li {display: inline-block}\n",
              ".list-inline>li:not(:last-child)::after {content: \"\\00b7\"; padding: 0 .5ex}\n",
              "</style>\n",
              "<ol class=list-inline><li>1</li><li>2</li><li>3</li><li>4</li><li>5</li><li>6</li><li>7</li><li>8</li><li>9</li><li>10</li><li>11</li><li>12</li><li>13</li><li>14</li><li>15</li><li>16</li><li>17</li><li>18</li><li>19</li><li>20</li><li>21</li><li>22</li><li>23</li><li>24</li></ol>\n"
            ]
          },
          "metadata": {}
        },
        {
          "output_type": "display_data",
          "data": {
            "text/plain": [
              "[1] 22"
            ],
            "text/latex": "22",
            "text/markdown": "22",
            "text/html": [
              "22"
            ]
          },
          "metadata": {}
        }
      ]
    },
    {
      "cell_type": "code",
      "metadata": {
        "id": "5xt4S0XmXaki",
        "colab": {
          "base_uri": "https://localhost:8080/",
          "height": 557
        },
        "outputId": "e28179e9-6903-44b8-a2e2-ed3f0a578005"
      },
      "source": [
        "# access the whole row or column #c()\n",
        "\n",
        "thisarray <- c(1:24)\n",
        "thisarray\n",
        "\n",
        "# Access all the items from the first row from matrix one \n",
        "multiarray <- array(thisarray, dim = c(4,3,2))\n",
        "multiarray[c(1),,1] # row, col, dim \n",
        "\n",
        "# Access all the items from the first column from matrix one \n",
        "multiarray <- array(thisarray, dim = c(4,3,2))\n",
        "multiarray[,c(1),1]\n",
        "\n",
        "# Check if an Item Exists \n",
        "thisarray <- c(1:24)\n",
        "multiarray <- array(thisarray, dim = c(4,3,2))\n",
        "2 %in% multiarray\n",
        "30 %in% multiarray\n",
        "\n",
        "# Amount of Rows and Columns \n",
        "thisarray <- c(1:24)\n",
        "multiarray <- array(thisarray, dim = c(4,3,2))\n",
        "dim(multiarray)\n",
        "\n",
        "# Array Length \n",
        "thisarray <- c(1:24)\n",
        "multiarray <- array(thisarray, dim = c(4,3,2))\n",
        "length(multiarray)\n",
        "\n",
        "# Loop through an array \n",
        "for (x in multiarray) {\n",
        "  print(x)\n",
        "}"
      ],
      "execution_count": null,
      "outputs": [
        {
          "output_type": "display_data",
          "data": {
            "text/plain": [
              " [1]  1  2  3  4  5  6  7  8  9 10 11 12 13 14 15 16 17 18 19 20 21 22 23 24"
            ],
            "text/latex": "\\begin{enumerate*}\n\\item 1\n\\item 2\n\\item 3\n\\item 4\n\\item 5\n\\item 6\n\\item 7\n\\item 8\n\\item 9\n\\item 10\n\\item 11\n\\item 12\n\\item 13\n\\item 14\n\\item 15\n\\item 16\n\\item 17\n\\item 18\n\\item 19\n\\item 20\n\\item 21\n\\item 22\n\\item 23\n\\item 24\n\\end{enumerate*}\n",
            "text/markdown": "1. 1\n2. 2\n3. 3\n4. 4\n5. 5\n6. 6\n7. 7\n8. 8\n9. 9\n10. 10\n11. 11\n12. 12\n13. 13\n14. 14\n15. 15\n16. 16\n17. 17\n18. 18\n19. 19\n20. 20\n21. 21\n22. 22\n23. 23\n24. 24\n\n\n",
            "text/html": [
              "<style>\n",
              ".list-inline {list-style: none; margin:0; padding: 0}\n",
              ".list-inline>li {display: inline-block}\n",
              ".list-inline>li:not(:last-child)::after {content: \"\\00b7\"; padding: 0 .5ex}\n",
              "</style>\n",
              "<ol class=list-inline><li>1</li><li>2</li><li>3</li><li>4</li><li>5</li><li>6</li><li>7</li><li>8</li><li>9</li><li>10</li><li>11</li><li>12</li><li>13</li><li>14</li><li>15</li><li>16</li><li>17</li><li>18</li><li>19</li><li>20</li><li>21</li><li>22</li><li>23</li><li>24</li></ol>\n"
            ]
          },
          "metadata": {}
        },
        {
          "output_type": "display_data",
          "data": {
            "text/plain": [
              "[1] 1 5 9"
            ],
            "text/latex": "\\begin{enumerate*}\n\\item 1\n\\item 5\n\\item 9\n\\end{enumerate*}\n",
            "text/markdown": "1. 1\n2. 5\n3. 9\n\n\n",
            "text/html": [
              "<style>\n",
              ".list-inline {list-style: none; margin:0; padding: 0}\n",
              ".list-inline>li {display: inline-block}\n",
              ".list-inline>li:not(:last-child)::after {content: \"\\00b7\"; padding: 0 .5ex}\n",
              "</style>\n",
              "<ol class=list-inline><li>1</li><li>5</li><li>9</li></ol>\n"
            ]
          },
          "metadata": {}
        },
        {
          "output_type": "display_data",
          "data": {
            "text/plain": [
              "[1] 1 2 3 4"
            ],
            "text/latex": "\\begin{enumerate*}\n\\item 1\n\\item 2\n\\item 3\n\\item 4\n\\end{enumerate*}\n",
            "text/markdown": "1. 1\n2. 2\n3. 3\n4. 4\n\n\n",
            "text/html": [
              "<style>\n",
              ".list-inline {list-style: none; margin:0; padding: 0}\n",
              ".list-inline>li {display: inline-block}\n",
              ".list-inline>li:not(:last-child)::after {content: \"\\00b7\"; padding: 0 .5ex}\n",
              "</style>\n",
              "<ol class=list-inline><li>1</li><li>2</li><li>3</li><li>4</li></ol>\n"
            ]
          },
          "metadata": {}
        },
        {
          "output_type": "display_data",
          "data": {
            "text/plain": [
              "[1] TRUE"
            ],
            "text/latex": "TRUE",
            "text/markdown": "TRUE",
            "text/html": [
              "TRUE"
            ]
          },
          "metadata": {}
        },
        {
          "output_type": "display_data",
          "data": {
            "text/plain": [
              "[1] FALSE"
            ],
            "text/latex": "FALSE",
            "text/markdown": "FALSE",
            "text/html": [
              "FALSE"
            ]
          },
          "metadata": {}
        },
        {
          "output_type": "display_data",
          "data": {
            "text/plain": [
              "[1] 4 3 2"
            ],
            "text/latex": "\\begin{enumerate*}\n\\item 4\n\\item 3\n\\item 2\n\\end{enumerate*}\n",
            "text/markdown": "1. 4\n2. 3\n3. 2\n\n\n",
            "text/html": [
              "<style>\n",
              ".list-inline {list-style: none; margin:0; padding: 0}\n",
              ".list-inline>li {display: inline-block}\n",
              ".list-inline>li:not(:last-child)::after {content: \"\\00b7\"; padding: 0 .5ex}\n",
              "</style>\n",
              "<ol class=list-inline><li>4</li><li>3</li><li>2</li></ol>\n"
            ]
          },
          "metadata": {}
        },
        {
          "output_type": "display_data",
          "data": {
            "text/plain": [
              "[1] 24"
            ],
            "text/latex": "24",
            "text/markdown": "24",
            "text/html": [
              "24"
            ]
          },
          "metadata": {}
        },
        {
          "output_type": "stream",
          "name": "stdout",
          "text": [
            "[1] 1\n",
            "[1] 2\n",
            "[1] 3\n",
            "[1] 4\n",
            "[1] 5\n",
            "[1] 6\n",
            "[1] 7\n",
            "[1] 8\n",
            "[1] 9\n",
            "[1] 10\n",
            "[1] 11\n",
            "[1] 12\n",
            "[1] 13\n",
            "[1] 14\n",
            "[1] 15\n",
            "[1] 16\n",
            "[1] 17\n",
            "[1] 18\n",
            "[1] 19\n",
            "[1] 20\n",
            "[1] 21\n",
            "[1] 22\n",
            "[1] 23\n",
            "[1] 24\n"
          ]
        }
      ]
    },
    {
      "cell_type": "code",
      "metadata": {
        "id": "HPFW3OF2TzxN",
        "outputId": "bbc800a7-ccfc-41b3-e01b-21892318e1fe",
        "colab": {
          "base_uri": "https://localhost:8080/",
          "height": 1000
        }
      },
      "source": [
        "# R Data Frames \n",
        "# format: table \n",
        "# character, numeric or logical, \n",
        "# data.frame()\n",
        "\n",
        "# Create a data frame \n",
        "Data_Frame <- data.frame(\n",
        "  Training = c(\"Strength\", \"Stamina\", \"Other\"), # chr \n",
        "  Pulse = c(100, 150, 120), #dbl \n",
        "  Duration = c(60,30,45) #dbl \n",
        ")\n",
        "\n",
        "Data_Frame\n",
        "\n",
        "# Summarize the Data \n",
        "# summary() # summarize the data from a Data Frame \n",
        "\n",
        "Data_Frame <- data.frame(\n",
        "  Training = c(\"Strength\", \"Stamina\", \"Other\"),\n",
        "  Pulse = c(100, 150, 120),\n",
        "  Duration = c(60, 30, 45)\n",
        ")\n",
        "\n",
        "Data_Frame\n",
        "summary(Data_Frame)\n",
        "\n",
        "# Access Items \n",
        "Data_Frame[1] # first column # table format \n",
        "Data_Frame[[\"Training\"]] # elements in list(?) format \n",
        "Data_Frame$Training # same as above \n",
        "\n",
        "# Add Rows \n",
        "# rbind() # add new rows in df \n",
        "New_row_DF <- rbind(Data_Frame, c(\"Strength\", 110, 110))\n",
        "New_row_DF\n",
        "\n",
        "# Add Columns \n",
        "# cbind() # add new columns in df \n",
        "New_col_DF <- cbind(Data_Frame, Steps = c(1000, 6000, 2000))\n",
        "New_col_DF\n",
        "\n",
        "# Remove rows and columns \n",
        "Data_Frame #for checking \n",
        "Data_Frame_New <- Data_Frame[-c(1), -c(1)]\n",
        "Data_Frame_New\n",
        "\n",
        "# Amount of Rows and Columns \n",
        "dim(Data_Frame) # 3-3 \n",
        "ncol(Data_Frame) # 3\n",
        "nrow(Data_Frame) # 3\n",
        "\n",
        "# Data Frame Length \n",
        "# length() : the number of columns in a DF ~ ncol()\n",
        "length(Data_Frame) #3 \n",
        "\n",
        "# Combining Data Frame \n",
        "\n",
        "# rbind()\n",
        "Data_Frame1 <- data.frame(\n",
        "  Training = c(\"Strength\", \"Stamina\",  \"Other\"),\n",
        "  Pulse = c(100, 150,120), \n",
        "  Duration = c(60, 30, 45)\n",
        ")\n",
        "\n",
        "Data_Frame2 <- data.frame(\n",
        "  Training = c(\"Strength\", \"Stamina\", \"Other\"), \n",
        "  Pulse = c(140, 150, 160),\n",
        "  Duration = c(30, 30, 20)\n",
        ")\n",
        "\n",
        "New_Data_Frame12 <- rbind(Data_Frame1, Data_Frame2)\n",
        "New_Data_Frame12\n",
        "\n",
        "# cbind()\n",
        "Data_Frame3 <- data.frame(\n",
        "  Training = c(\"Strength\", \"Stamina\", \"Other\"), \n",
        "  Pulse = c(100, 150, 120),\n",
        "  Duration = c(60, 30, 45)\n",
        ")\n",
        "\n",
        "Data_Frame4 <- data.frame(\n",
        "  Steps = c(3000, 6000, 2000),\n",
        "  Calories = c(300, 400, 300)\n",
        ")\n",
        "\n",
        "New_Data_Frame34 <- cbind(Data_Frame3, Data_Frame4)\n",
        "New_Data_Frame34"
      ],
      "execution_count": 14,
      "outputs": [
        {
          "output_type": "display_data",
          "data": {
            "text/plain": [
              "  Training Pulse Duration\n",
              "1 Strength 100   60      \n",
              "2 Stamina  150   30      \n",
              "3 Other    120   45      "
            ],
            "text/latex": "A data.frame: 3 × 3\n\\begin{tabular}{lll}\n Training & Pulse & Duration\\\\\n <chr> & <dbl> & <dbl>\\\\\n\\hline\n\t Strength & 100 & 60\\\\\n\t Stamina  & 150 & 30\\\\\n\t Other    & 120 & 45\\\\\n\\end{tabular}\n",
            "text/markdown": "\nA data.frame: 3 × 3\n\n| Training &lt;chr&gt; | Pulse &lt;dbl&gt; | Duration &lt;dbl&gt; |\n|---|---|---|\n| Strength | 100 | 60 |\n| Stamina  | 150 | 30 |\n| Other    | 120 | 45 |\n\n",
            "text/html": [
              "<table class=\"dataframe\">\n",
              "<caption>A data.frame: 3 × 3</caption>\n",
              "<thead>\n",
              "\t<tr><th scope=col>Training</th><th scope=col>Pulse</th><th scope=col>Duration</th></tr>\n",
              "\t<tr><th scope=col>&lt;chr&gt;</th><th scope=col>&lt;dbl&gt;</th><th scope=col>&lt;dbl&gt;</th></tr>\n",
              "</thead>\n",
              "<tbody>\n",
              "\t<tr><td>Strength</td><td>100</td><td>60</td></tr>\n",
              "\t<tr><td>Stamina </td><td>150</td><td>30</td></tr>\n",
              "\t<tr><td>Other   </td><td>120</td><td>45</td></tr>\n",
              "</tbody>\n",
              "</table>\n"
            ]
          },
          "metadata": {}
        },
        {
          "output_type": "display_data",
          "data": {
            "text/plain": [
              "  Training Pulse Duration\n",
              "1 Strength 100   60      \n",
              "2 Stamina  150   30      \n",
              "3 Other    120   45      "
            ],
            "text/latex": "A data.frame: 3 × 3\n\\begin{tabular}{lll}\n Training & Pulse & Duration\\\\\n <chr> & <dbl> & <dbl>\\\\\n\\hline\n\t Strength & 100 & 60\\\\\n\t Stamina  & 150 & 30\\\\\n\t Other    & 120 & 45\\\\\n\\end{tabular}\n",
            "text/markdown": "\nA data.frame: 3 × 3\n\n| Training &lt;chr&gt; | Pulse &lt;dbl&gt; | Duration &lt;dbl&gt; |\n|---|---|---|\n| Strength | 100 | 60 |\n| Stamina  | 150 | 30 |\n| Other    | 120 | 45 |\n\n",
            "text/html": [
              "<table class=\"dataframe\">\n",
              "<caption>A data.frame: 3 × 3</caption>\n",
              "<thead>\n",
              "\t<tr><th scope=col>Training</th><th scope=col>Pulse</th><th scope=col>Duration</th></tr>\n",
              "\t<tr><th scope=col>&lt;chr&gt;</th><th scope=col>&lt;dbl&gt;</th><th scope=col>&lt;dbl&gt;</th></tr>\n",
              "</thead>\n",
              "<tbody>\n",
              "\t<tr><td>Strength</td><td>100</td><td>60</td></tr>\n",
              "\t<tr><td>Stamina </td><td>150</td><td>30</td></tr>\n",
              "\t<tr><td>Other   </td><td>120</td><td>45</td></tr>\n",
              "</tbody>\n",
              "</table>\n"
            ]
          },
          "metadata": {}
        },
        {
          "output_type": "display_data",
          "data": {
            "text/plain": [
              "   Training             Pulse          Duration   \n",
              " Length:3           Min.   :100.0   Min.   :30.0  \n",
              " Class :character   1st Qu.:110.0   1st Qu.:37.5  \n",
              " Mode  :character   Median :120.0   Median :45.0  \n",
              "                    Mean   :123.3   Mean   :45.0  \n",
              "                    3rd Qu.:135.0   3rd Qu.:52.5  \n",
              "                    Max.   :150.0   Max.   :60.0  "
            ]
          },
          "metadata": {}
        },
        {
          "output_type": "display_data",
          "data": {
            "text/plain": [
              "  Training\n",
              "1 Strength\n",
              "2 Stamina \n",
              "3 Other   "
            ],
            "text/latex": "A data.frame: 3 × 1\n\\begin{tabular}{l}\n Training\\\\\n <chr>\\\\\n\\hline\n\t Strength\\\\\n\t Stamina \\\\\n\t Other   \\\\\n\\end{tabular}\n",
            "text/markdown": "\nA data.frame: 3 × 1\n\n| Training &lt;chr&gt; |\n|---|\n| Strength |\n| Stamina  |\n| Other    |\n\n",
            "text/html": [
              "<table class=\"dataframe\">\n",
              "<caption>A data.frame: 3 × 1</caption>\n",
              "<thead>\n",
              "\t<tr><th scope=col>Training</th></tr>\n",
              "\t<tr><th scope=col>&lt;chr&gt;</th></tr>\n",
              "</thead>\n",
              "<tbody>\n",
              "\t<tr><td>Strength</td></tr>\n",
              "\t<tr><td>Stamina </td></tr>\n",
              "\t<tr><td>Other   </td></tr>\n",
              "</tbody>\n",
              "</table>\n"
            ]
          },
          "metadata": {}
        },
        {
          "output_type": "display_data",
          "data": {
            "text/plain": [
              "[1] \"Strength\" \"Stamina\"  \"Other\"   "
            ],
            "text/latex": "\\begin{enumerate*}\n\\item 'Strength'\n\\item 'Stamina'\n\\item 'Other'\n\\end{enumerate*}\n",
            "text/markdown": "1. 'Strength'\n2. 'Stamina'\n3. 'Other'\n\n\n",
            "text/html": [
              "<style>\n",
              ".list-inline {list-style: none; margin:0; padding: 0}\n",
              ".list-inline>li {display: inline-block}\n",
              ".list-inline>li:not(:last-child)::after {content: \"\\00b7\"; padding: 0 .5ex}\n",
              "</style>\n",
              "<ol class=list-inline><li>'Strength'</li><li>'Stamina'</li><li>'Other'</li></ol>\n"
            ]
          },
          "metadata": {}
        },
        {
          "output_type": "display_data",
          "data": {
            "text/plain": [
              "[1] \"Strength\" \"Stamina\"  \"Other\"   "
            ],
            "text/latex": "\\begin{enumerate*}\n\\item 'Strength'\n\\item 'Stamina'\n\\item 'Other'\n\\end{enumerate*}\n",
            "text/markdown": "1. 'Strength'\n2. 'Stamina'\n3. 'Other'\n\n\n",
            "text/html": [
              "<style>\n",
              ".list-inline {list-style: none; margin:0; padding: 0}\n",
              ".list-inline>li {display: inline-block}\n",
              ".list-inline>li:not(:last-child)::after {content: \"\\00b7\"; padding: 0 .5ex}\n",
              "</style>\n",
              "<ol class=list-inline><li>'Strength'</li><li>'Stamina'</li><li>'Other'</li></ol>\n"
            ]
          },
          "metadata": {}
        },
        {
          "output_type": "display_data",
          "data": {
            "text/plain": [
              "  Training Pulse Duration\n",
              "1 Strength 100   60      \n",
              "2 Stamina  150   30      \n",
              "3 Other    120   45      \n",
              "4 Strength 110   110     "
            ],
            "text/latex": "A data.frame: 4 × 3\n\\begin{tabular}{lll}\n Training & Pulse & Duration\\\\\n <chr> & <chr> & <chr>\\\\\n\\hline\n\t Strength & 100 & 60 \\\\\n\t Stamina  & 150 & 30 \\\\\n\t Other    & 120 & 45 \\\\\n\t Strength & 110 & 110\\\\\n\\end{tabular}\n",
            "text/markdown": "\nA data.frame: 4 × 3\n\n| Training &lt;chr&gt; | Pulse &lt;chr&gt; | Duration &lt;chr&gt; |\n|---|---|---|\n| Strength | 100 | 60  |\n| Stamina  | 150 | 30  |\n| Other    | 120 | 45  |\n| Strength | 110 | 110 |\n\n",
            "text/html": [
              "<table class=\"dataframe\">\n",
              "<caption>A data.frame: 4 × 3</caption>\n",
              "<thead>\n",
              "\t<tr><th scope=col>Training</th><th scope=col>Pulse</th><th scope=col>Duration</th></tr>\n",
              "\t<tr><th scope=col>&lt;chr&gt;</th><th scope=col>&lt;chr&gt;</th><th scope=col>&lt;chr&gt;</th></tr>\n",
              "</thead>\n",
              "<tbody>\n",
              "\t<tr><td>Strength</td><td>100</td><td>60 </td></tr>\n",
              "\t<tr><td>Stamina </td><td>150</td><td>30 </td></tr>\n",
              "\t<tr><td>Other   </td><td>120</td><td>45 </td></tr>\n",
              "\t<tr><td>Strength</td><td>110</td><td>110</td></tr>\n",
              "</tbody>\n",
              "</table>\n"
            ]
          },
          "metadata": {}
        },
        {
          "output_type": "display_data",
          "data": {
            "text/plain": [
              "  Training Pulse Duration Steps\n",
              "1 Strength 100   60       1000 \n",
              "2 Stamina  150   30       6000 \n",
              "3 Other    120   45       2000 "
            ],
            "text/latex": "A data.frame: 3 × 4\n\\begin{tabular}{llll}\n Training & Pulse & Duration & Steps\\\\\n <chr> & <dbl> & <dbl> & <dbl>\\\\\n\\hline\n\t Strength & 100 & 60 & 1000\\\\\n\t Stamina  & 150 & 30 & 6000\\\\\n\t Other    & 120 & 45 & 2000\\\\\n\\end{tabular}\n",
            "text/markdown": "\nA data.frame: 3 × 4\n\n| Training &lt;chr&gt; | Pulse &lt;dbl&gt; | Duration &lt;dbl&gt; | Steps &lt;dbl&gt; |\n|---|---|---|---|\n| Strength | 100 | 60 | 1000 |\n| Stamina  | 150 | 30 | 6000 |\n| Other    | 120 | 45 | 2000 |\n\n",
            "text/html": [
              "<table class=\"dataframe\">\n",
              "<caption>A data.frame: 3 × 4</caption>\n",
              "<thead>\n",
              "\t<tr><th scope=col>Training</th><th scope=col>Pulse</th><th scope=col>Duration</th><th scope=col>Steps</th></tr>\n",
              "\t<tr><th scope=col>&lt;chr&gt;</th><th scope=col>&lt;dbl&gt;</th><th scope=col>&lt;dbl&gt;</th><th scope=col>&lt;dbl&gt;</th></tr>\n",
              "</thead>\n",
              "<tbody>\n",
              "\t<tr><td>Strength</td><td>100</td><td>60</td><td>1000</td></tr>\n",
              "\t<tr><td>Stamina </td><td>150</td><td>30</td><td>6000</td></tr>\n",
              "\t<tr><td>Other   </td><td>120</td><td>45</td><td>2000</td></tr>\n",
              "</tbody>\n",
              "</table>\n"
            ]
          },
          "metadata": {}
        },
        {
          "output_type": "display_data",
          "data": {
            "text/plain": [
              "  Training Pulse Duration\n",
              "1 Strength 100   60      \n",
              "2 Stamina  150   30      \n",
              "3 Other    120   45      "
            ],
            "text/latex": "A data.frame: 3 × 3\n\\begin{tabular}{lll}\n Training & Pulse & Duration\\\\\n <chr> & <dbl> & <dbl>\\\\\n\\hline\n\t Strength & 100 & 60\\\\\n\t Stamina  & 150 & 30\\\\\n\t Other    & 120 & 45\\\\\n\\end{tabular}\n",
            "text/markdown": "\nA data.frame: 3 × 3\n\n| Training &lt;chr&gt; | Pulse &lt;dbl&gt; | Duration &lt;dbl&gt; |\n|---|---|---|\n| Strength | 100 | 60 |\n| Stamina  | 150 | 30 |\n| Other    | 120 | 45 |\n\n",
            "text/html": [
              "<table class=\"dataframe\">\n",
              "<caption>A data.frame: 3 × 3</caption>\n",
              "<thead>\n",
              "\t<tr><th scope=col>Training</th><th scope=col>Pulse</th><th scope=col>Duration</th></tr>\n",
              "\t<tr><th scope=col>&lt;chr&gt;</th><th scope=col>&lt;dbl&gt;</th><th scope=col>&lt;dbl&gt;</th></tr>\n",
              "</thead>\n",
              "<tbody>\n",
              "\t<tr><td>Strength</td><td>100</td><td>60</td></tr>\n",
              "\t<tr><td>Stamina </td><td>150</td><td>30</td></tr>\n",
              "\t<tr><td>Other   </td><td>120</td><td>45</td></tr>\n",
              "</tbody>\n",
              "</table>\n"
            ]
          },
          "metadata": {}
        },
        {
          "output_type": "display_data",
          "data": {
            "text/plain": [
              "  Pulse Duration\n",
              "2 150   30      \n",
              "3 120   45      "
            ],
            "text/latex": "A data.frame: 2 × 2\n\\begin{tabular}{r|ll}\n  & Pulse & Duration\\\\\n  & <dbl> & <dbl>\\\\\n\\hline\n\t2 & 150 & 30\\\\\n\t3 & 120 & 45\\\\\n\\end{tabular}\n",
            "text/markdown": "\nA data.frame: 2 × 2\n\n| <!--/--> | Pulse &lt;dbl&gt; | Duration &lt;dbl&gt; |\n|---|---|---|\n| 2 | 150 | 30 |\n| 3 | 120 | 45 |\n\n",
            "text/html": [
              "<table class=\"dataframe\">\n",
              "<caption>A data.frame: 2 × 2</caption>\n",
              "<thead>\n",
              "\t<tr><th></th><th scope=col>Pulse</th><th scope=col>Duration</th></tr>\n",
              "\t<tr><th></th><th scope=col>&lt;dbl&gt;</th><th scope=col>&lt;dbl&gt;</th></tr>\n",
              "</thead>\n",
              "<tbody>\n",
              "\t<tr><th scope=row>2</th><td>150</td><td>30</td></tr>\n",
              "\t<tr><th scope=row>3</th><td>120</td><td>45</td></tr>\n",
              "</tbody>\n",
              "</table>\n"
            ]
          },
          "metadata": {}
        },
        {
          "output_type": "display_data",
          "data": {
            "text/plain": [
              "[1] 3 3"
            ],
            "text/latex": "\\begin{enumerate*}\n\\item 3\n\\item 3\n\\end{enumerate*}\n",
            "text/markdown": "1. 3\n2. 3\n\n\n",
            "text/html": [
              "<style>\n",
              ".list-inline {list-style: none; margin:0; padding: 0}\n",
              ".list-inline>li {display: inline-block}\n",
              ".list-inline>li:not(:last-child)::after {content: \"\\00b7\"; padding: 0 .5ex}\n",
              "</style>\n",
              "<ol class=list-inline><li>3</li><li>3</li></ol>\n"
            ]
          },
          "metadata": {}
        },
        {
          "output_type": "display_data",
          "data": {
            "text/plain": [
              "[1] 3"
            ],
            "text/latex": "3",
            "text/markdown": "3",
            "text/html": [
              "3"
            ]
          },
          "metadata": {}
        },
        {
          "output_type": "display_data",
          "data": {
            "text/plain": [
              "[1] 3"
            ],
            "text/latex": "3",
            "text/markdown": "3",
            "text/html": [
              "3"
            ]
          },
          "metadata": {}
        },
        {
          "output_type": "display_data",
          "data": {
            "text/plain": [
              "[1] 3"
            ],
            "text/latex": "3",
            "text/markdown": "3",
            "text/html": [
              "3"
            ]
          },
          "metadata": {}
        },
        {
          "output_type": "display_data",
          "data": {
            "text/plain": [
              "  Training Pulse Duration\n",
              "1 Strength 100   60      \n",
              "2 Stamina  150   30      \n",
              "3 Other    120   45      \n",
              "4 Strength 140   30      \n",
              "5 Stamina  150   30      \n",
              "6 Other    160   20      "
            ],
            "text/latex": "A data.frame: 6 × 3\n\\begin{tabular}{lll}\n Training & Pulse & Duration\\\\\n <chr> & <dbl> & <dbl>\\\\\n\\hline\n\t Strength & 100 & 60\\\\\n\t Stamina  & 150 & 30\\\\\n\t Other    & 120 & 45\\\\\n\t Strength & 140 & 30\\\\\n\t Stamina  & 150 & 30\\\\\n\t Other    & 160 & 20\\\\\n\\end{tabular}\n",
            "text/markdown": "\nA data.frame: 6 × 3\n\n| Training &lt;chr&gt; | Pulse &lt;dbl&gt; | Duration &lt;dbl&gt; |\n|---|---|---|\n| Strength | 100 | 60 |\n| Stamina  | 150 | 30 |\n| Other    | 120 | 45 |\n| Strength | 140 | 30 |\n| Stamina  | 150 | 30 |\n| Other    | 160 | 20 |\n\n",
            "text/html": [
              "<table class=\"dataframe\">\n",
              "<caption>A data.frame: 6 × 3</caption>\n",
              "<thead>\n",
              "\t<tr><th scope=col>Training</th><th scope=col>Pulse</th><th scope=col>Duration</th></tr>\n",
              "\t<tr><th scope=col>&lt;chr&gt;</th><th scope=col>&lt;dbl&gt;</th><th scope=col>&lt;dbl&gt;</th></tr>\n",
              "</thead>\n",
              "<tbody>\n",
              "\t<tr><td>Strength</td><td>100</td><td>60</td></tr>\n",
              "\t<tr><td>Stamina </td><td>150</td><td>30</td></tr>\n",
              "\t<tr><td>Other   </td><td>120</td><td>45</td></tr>\n",
              "\t<tr><td>Strength</td><td>140</td><td>30</td></tr>\n",
              "\t<tr><td>Stamina </td><td>150</td><td>30</td></tr>\n",
              "\t<tr><td>Other   </td><td>160</td><td>20</td></tr>\n",
              "</tbody>\n",
              "</table>\n"
            ]
          },
          "metadata": {}
        },
        {
          "output_type": "display_data",
          "data": {
            "text/plain": [
              "  Training Pulse Duration Steps Calories\n",
              "1 Strength 100   60       3000  300     \n",
              "2 Stamina  150   30       6000  400     \n",
              "3 Other    120   45       2000  300     "
            ],
            "text/latex": "A data.frame: 3 × 5\n\\begin{tabular}{lllll}\n Training & Pulse & Duration & Steps & Calories\\\\\n <chr> & <dbl> & <dbl> & <dbl> & <dbl>\\\\\n\\hline\n\t Strength & 100 & 60 & 3000 & 300\\\\\n\t Stamina  & 150 & 30 & 6000 & 400\\\\\n\t Other    & 120 & 45 & 2000 & 300\\\\\n\\end{tabular}\n",
            "text/markdown": "\nA data.frame: 3 × 5\n\n| Training &lt;chr&gt; | Pulse &lt;dbl&gt; | Duration &lt;dbl&gt; | Steps &lt;dbl&gt; | Calories &lt;dbl&gt; |\n|---|---|---|---|---|\n| Strength | 100 | 60 | 3000 | 300 |\n| Stamina  | 150 | 30 | 6000 | 400 |\n| Other    | 120 | 45 | 2000 | 300 |\n\n",
            "text/html": [
              "<table class=\"dataframe\">\n",
              "<caption>A data.frame: 3 × 5</caption>\n",
              "<thead>\n",
              "\t<tr><th scope=col>Training</th><th scope=col>Pulse</th><th scope=col>Duration</th><th scope=col>Steps</th><th scope=col>Calories</th></tr>\n",
              "\t<tr><th scope=col>&lt;chr&gt;</th><th scope=col>&lt;dbl&gt;</th><th scope=col>&lt;dbl&gt;</th><th scope=col>&lt;dbl&gt;</th><th scope=col>&lt;dbl&gt;</th></tr>\n",
              "</thead>\n",
              "<tbody>\n",
              "\t<tr><td>Strength</td><td>100</td><td>60</td><td>3000</td><td>300</td></tr>\n",
              "\t<tr><td>Stamina </td><td>150</td><td>30</td><td>6000</td><td>400</td></tr>\n",
              "\t<tr><td>Other   </td><td>120</td><td>45</td><td>2000</td><td>300</td></tr>\n",
              "</tbody>\n",
              "</table>\n"
            ]
          },
          "metadata": {}
        }
      ]
    },
    {
      "cell_type": "code",
      "metadata": {
        "id": "hbjfAjwvTz5p",
        "outputId": "f5d04ea7-0830-4389-9557-a0c94df6664a",
        "colab": {
          "base_uri": "https://localhost:8080/",
          "height": 67
        }
      },
      "source": [
        "# R Factors \n",
        "\n",
        "# Create a factor \n",
        "music_genre <- factor(c(\"Jazz\", \"Rock\", \"Classic\", \"Classic\", \"Pop\", \"Jazz\", \"Rock\", \"Jazz\"))\n",
        "music_genre\n",
        "levels(music_genre)"
      ],
      "execution_count": 17,
      "outputs": [
        {
          "output_type": "display_data",
          "data": {
            "text/plain": [
              "[1] Jazz    Rock    Classic Classic Pop     Jazz    Rock    Jazz   \n",
              "Levels: Classic Jazz Pop Rock"
            ],
            "text/latex": "\\begin{enumerate*}\n\\item Jazz\n\\item Rock\n\\item Classic\n\\item Classic\n\\item Pop\n\\item Jazz\n\\item Rock\n\\item Jazz\n\\end{enumerate*}\n\n\\emph{Levels}: \\begin{enumerate*}\n\\item 'Classic'\n\\item 'Jazz'\n\\item 'Pop'\n\\item 'Rock'\n\\end{enumerate*}\n",
            "text/markdown": "1. Jazz\n2. Rock\n3. Classic\n4. Classic\n5. Pop\n6. Jazz\n7. Rock\n8. Jazz\n\n\n\n**Levels**: 1. 'Classic'\n2. 'Jazz'\n3. 'Pop'\n4. 'Rock'\n\n\n",
            "text/html": [
              "<style>\n",
              ".list-inline {list-style: none; margin:0; padding: 0}\n",
              ".list-inline>li {display: inline-block}\n",
              ".list-inline>li:not(:last-child)::after {content: \"\\00b7\"; padding: 0 .5ex}\n",
              "</style>\n",
              "<ol class=list-inline><li>Jazz</li><li>Rock</li><li>Classic</li><li>Classic</li><li>Pop</li><li>Jazz</li><li>Rock</li><li>Jazz</li></ol>\n",
              "\n",
              "<details>\n",
              "\t<summary style=display:list-item;cursor:pointer>\n",
              "\t\t<strong>Levels</strong>:\n",
              "\t</summary>\n",
              "\t<style>\n",
              "\t.list-inline {list-style: none; margin:0; padding: 0}\n",
              "\t.list-inline>li {display: inline-block}\n",
              "\t.list-inline>li:not(:last-child)::after {content: \"\\00b7\"; padding: 0 .5ex}\n",
              "\t</style>\n",
              "\t<ol class=list-inline><li>'Classic'</li><li>'Jazz'</li><li>'Pop'</li><li>'Rock'</li></ol>\n",
              "</details>"
            ]
          },
          "metadata": {}
        },
        {
          "output_type": "display_data",
          "data": {
            "text/plain": [
              "[1] \"Classic\" \"Jazz\"    \"Pop\"     \"Rock\"   "
            ],
            "text/latex": "\\begin{enumerate*}\n\\item 'Classic'\n\\item 'Jazz'\n\\item 'Pop'\n\\item 'Rock'\n\\end{enumerate*}\n",
            "text/markdown": "1. 'Classic'\n2. 'Jazz'\n3. 'Pop'\n4. 'Rock'\n\n\n",
            "text/html": [
              "<style>\n",
              ".list-inline {list-style: none; margin:0; padding: 0}\n",
              ".list-inline>li {display: inline-block}\n",
              ".list-inline>li:not(:last-child)::after {content: \"\\00b7\"; padding: 0 .5ex}\n",
              "</style>\n",
              "<ol class=list-inline><li>'Classic'</li><li>'Jazz'</li><li>'Pop'</li><li>'Rock'</li></ol>\n"
            ]
          },
          "metadata": {}
        }
      ]
    },
    {
      "cell_type": "markdown",
      "metadata": {
        "id": "6vZLjvif_mNu"
      },
      "source": [
        "#R Graphics "
      ]
    },
    {
      "cell_type": "code",
      "metadata": {
        "id": "aLtEH4Ry_pZw"
      },
      "source": [
        ""
      ],
      "execution_count": null,
      "outputs": []
    },
    {
      "cell_type": "code",
      "metadata": {
        "id": "rGOLm_9N_p6g"
      },
      "source": [
        ""
      ],
      "execution_count": null,
      "outputs": []
    },
    {
      "cell_type": "code",
      "metadata": {
        "id": "DUTfOLY9_qB-"
      },
      "source": [
        ""
      ],
      "execution_count": null,
      "outputs": []
    },
    {
      "cell_type": "code",
      "metadata": {
        "id": "lcxhDkWv_qKz"
      },
      "source": [
        ""
      ],
      "execution_count": null,
      "outputs": []
    },
    {
      "cell_type": "markdown",
      "metadata": {
        "id": "2JyJnMHf_pEY"
      },
      "source": [
        "#R Statistics"
      ]
    },
    {
      "cell_type": "code",
      "metadata": {
        "id": "6IOAz56M_tHx"
      },
      "source": [
        ""
      ],
      "execution_count": null,
      "outputs": []
    },
    {
      "cell_type": "code",
      "metadata": {
        "id": "9NHmn8W2_tTh"
      },
      "source": [
        ""
      ],
      "execution_count": null,
      "outputs": []
    },
    {
      "cell_type": "code",
      "metadata": {
        "id": "e8cdmkPD_t1S"
      },
      "source": [
        ""
      ],
      "execution_count": null,
      "outputs": []
    },
    {
      "cell_type": "code",
      "metadata": {
        "id": "nG-99n1J_t9L"
      },
      "source": [
        ""
      ],
      "execution_count": null,
      "outputs": []
    },
    {
      "cell_type": "markdown",
      "metadata": {
        "id": "QwWWV4FM_usC"
      },
      "source": [
        "#R Examples "
      ]
    },
    {
      "cell_type": "code",
      "metadata": {
        "id": "Xr-qvLKo_v7A"
      },
      "source": [
        ""
      ],
      "execution_count": null,
      "outputs": []
    },
    {
      "cell_type": "code",
      "metadata": {
        "id": "h6ad1T47_wFk"
      },
      "source": [
        ""
      ],
      "execution_count": null,
      "outputs": []
    },
    {
      "cell_type": "code",
      "metadata": {
        "id": "kOFB20Cb_wNM"
      },
      "source": [
        ""
      ],
      "execution_count": null,
      "outputs": []
    }
  ]
}