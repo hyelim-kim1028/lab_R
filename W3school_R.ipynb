{
  "nbformat": 4,
  "nbformat_minor": 0,
  "metadata": {
    "colab": {
      "name": "W3school_R.ipynb",
      "provenance": [],
      "authorship_tag": "ABX9TyN8G4LtTtUdiyKjrgSdCLS/",
      "include_colab_link": true
    },
    "kernelspec": {
      "name": "ir",
      "display_name": "R"
    },
    "language_info": {
      "name": "R"
    }
  },
  "cells": [
    {
      "cell_type": "markdown",
      "metadata": {
        "id": "view-in-github",
        "colab_type": "text"
      },
      "source": [
        "<a href=\"https://colab.research.google.com/github/hyelim-kim1028/lab_R/blob/master/W3school_R.ipynb\" target=\"_parent\"><img src=\"https://colab.research.google.com/assets/colab-badge.svg\" alt=\"Open In Colab\"/></a>"
      ]
    },
    {
      "cell_type": "code",
      "metadata": {
        "colab": {
          "base_uri": "https://localhost:8080/",
          "height": 50
        },
        "id": "Syhbe9qUS_4l",
        "outputId": "2e652c85-b7c0-4c42-8317-ecf59835e693"
      },
      "source": [
        "# Basic R tutorial  recap \n",
        "\n",
        "\"Hello, world!\" # strings with \"\"\n",
        "5+5 # numbers w/o \" \""
      ],
      "execution_count": 2,
      "outputs": [
        {
          "output_type": "display_data",
          "data": {
            "text/plain": [
              "[1] \"Hello, world!\""
            ],
            "text/latex": "'Hello, world!'",
            "text/markdown": "'Hello, world!'",
            "text/html": [
              "'Hello, world!'"
            ]
          },
          "metadata": {}
        },
        {
          "output_type": "display_data",
          "data": {
            "text/plain": [
              "[1] 10"
            ],
            "text/latex": "10",
            "text/markdown": "10",
            "text/html": [
              "10"
            ]
          },
          "metadata": {}
        }
      ]
    },
    {
      "cell_type": "code",
      "metadata": {
        "colab": {
          "base_uri": "https://localhost:8080/",
          "height": 437
        },
        "id": "dKHduShLTjte",
        "outputId": "866e1797-f0a2-4157-d32d-83e97be8ae32"
      },
      "source": [
        "plot(1:10)"
      ],
      "execution_count": 3,
      "outputs": [
        {
          "output_type": "display_data",
          "data": {
            "image/png": "[encoded data removed]",
            "text/plain": [
              "plot without title"
            ]
          },
          "metadata": {
            "image/png": {
              "width": 420,
              "height": 420
            }
          }
        }
      ]
    },
    {
      "cell_type": "code",
      "metadata": {
        "colab": {
          "base_uri": "https://localhost:8080/",
          "height": 227
        },
        "id": "v8lZ7K5WTj3U",
        "outputId": "3572c834-36c4-427e-e704-494ac95d10b5"
      },
      "source": [
        "# R introduction \n",
        "# What is R? \n",
        "\n",
        "# print \n",
        "\"Hello, world\"\n",
        "\n",
        "# also has print() function \n",
        "print(\"Hello, world!\") \n",
        "\n",
        "# print() within a for loops \n",
        "for (x in 1:10) {\n",
        "  print(x)\n",
        "}\n",
        "\n",
        "# comment"
      ],
      "execution_count": 7,
      "outputs": [
        {
          "output_type": "display_data",
          "data": {
            "text/plain": [
              "[1] \"Hello, world\""
            ],
            "text/latex": "'Hello, world'",
            "text/markdown": "'Hello, world'",
            "text/html": [
              "'Hello, world'"
            ]
          },
          "metadata": {}
        },
        {
          "output_type": "stream",
          "text": [
            "[1] \"Hello, world!\"\n",
            "[1] 1\n",
            "[1] 2\n",
            "[1] 3\n",
            "[1] 4\n",
            "[1] 5\n",
            "[1] 6\n",
            "[1] 7\n",
            "[1] 8\n",
            "[1] 9\n",
            "[1] 10\n"
          ],
          "name": "stdout"
        }
      ]
    },
    {
      "cell_type": "code",
      "metadata": {
        "id": "R3w8HW0ETj_L"
      },
      "source": [
        "# R variables \n",
        "# variables: containers for stroing data values \n",
        "# assign a value using <- \n",
        "\n",
        "name <- \"John\"\n",
        "age <- 40 \n",
        "\n",
        "name # output John #auto print \n",
        "print(name)\n",
        "age # output 40 \n"
      ],
      "execution_count": null,
      "outputs": []
    },
    {
      "cell_type": "code",
      "metadata": {
        "colab": {
          "base_uri": "https://localhost:8080/",
          "height": 34
        },
        "id": "ZU2cpa6ETkGs",
        "outputId": "00965133-4b4c-4fed-d2bd-68bca7779b06"
      },
      "source": [
        "# concatenate elements # paste()\n",
        "\n",
        "# EX1 \n",
        "text <- \"awesome\"\n",
        "paste(\"R is\", text)\n",
        "\n",
        "# EX2 \n",
        "text1 <- \"R is\"\n",
        "text2 <- \"awsome\"\n",
        "paste(text1, text2)\n",
        "\n",
        "#EX3 \n",
        "num1 <- 5 \n",
        "num2 <- 10 \n",
        "\n",
        "num1 + num2\n",
        "\n",
        "\n",
        "# EX4 => NOOOOOO \n",
        "# when try to mix a string and a number > error \n",
        "# num <- 5 \n",
        "# text <- \"Some text\"\n",
        "# num + text \n",
        "# Error in num + text: non-numeric argument to binary operator"
      ],
      "execution_count": 13,
      "outputs": [
        {
          "output_type": "display_data",
          "data": {
            "text/plain": [
              "[1] 15"
            ],
            "text/latex": "15",
            "text/markdown": "15",
            "text/html": [
              "15"
            ]
          },
          "metadata": {}
        }
      ]
    },
    {
      "cell_type": "code",
      "metadata": {
        "colab": {
          "base_uri": "https://localhost:8080/",
          "height": 67
        },
        "id": "JiYhDVkhTkNt",
        "outputId": "31bc3572-171c-4b79-9e63-448390a8441a"
      },
      "source": [
        "# Multiple Variables \n",
        "\n",
        "# Assign the same value to multiple variables in one line \n",
        "var1 <- var2 <- var3 <- \"Orange\"\n",
        "\n",
        "# Pring variable values \n",
        "var1 \n",
        "var2 \n",
        "var3"
      ],
      "execution_count": 15,
      "outputs": [
        {
          "output_type": "display_data",
          "data": {
            "text/plain": [
              "[1] \"Orange\""
            ],
            "text/latex": "'Orange'",
            "text/markdown": "'Orange'",
            "text/html": [
              "'Orange'"
            ]
          },
          "metadata": {}
        },
        {
          "output_type": "display_data",
          "data": {
            "text/plain": [
              "[1] \"Orange\""
            ],
            "text/latex": "'Orange'",
            "text/markdown": "'Orange'",
            "text/html": [
              "'Orange'"
            ]
          },
          "metadata": {}
        },
        {
          "output_type": "display_data",
          "data": {
            "text/plain": [
              "[1] \"Orange\""
            ],
            "text/latex": "'Orange'",
            "text/markdown": "'Orange'",
            "text/html": [
              "'Orange'"
            ]
          },
          "metadata": {}
        }
      ]
    },
    {
      "cell_type": "code",
      "metadata": {
        "id": "VLlqOx-sTkU_"
      },
      "source": [
        "# variable names \n",
        "\n",
        "# Rules \n",
        "# varaible name must start with a letter \n",
        "# can have combinations of letters, digits, period(.), underscore(_)\n",
        "# if starts with period(.), cannot be followed by a digit \n",
        "# cannot start with a number or underscore(_)\n",
        "# case-sensitive \n",
        "# NO reserved words \n",
        "\n",
        "# Legal variable names:\n",
        "myvar <- \"John\"\n",
        "my_var <- \"John\"\n",
        "myVar <- \"John\"\n",
        "MYVAR <- \"John\"\n",
        "myvar2 <- \"John\"\n",
        ".myvar <- \"John\"\n",
        "\n",
        "# why is it not working \n",
        "# .myvar <- John #Error in eval(expr, envir, enclos): object 'John' not found\n",
        "\n",
        "\n",
        "#Illegal variable names: \n",
        "# 2myvar <- \"John\"\n",
        "# my-var <- \"John\"\n",
        "# my var <- \"John\"\n",
        "# _my_var <- \"John\"\n",
        "# my_v@r <- \"John\"\n",
        "# TRUE <- \"John\""
      ],
      "execution_count": 22,
      "outputs": []
    },
    {
      "cell_type": "code",
      "metadata": {
        "colab": {
          "base_uri": "https://localhost:8080/",
          "height": 101
        },
        "id": "12VzmFCDTkcK",
        "outputId": "990574dd-d7f7-476c-9d14-82f4414e2158"
      },
      "source": [
        "# Data Types \n",
        "\n",
        "# Basic Data Types \n",
        "# numeric \n",
        "# integer  \n",
        "# complex - 9 + 3i, i is an imaginary number\n",
        "# character - string \n",
        "# logical - boolean, TRUE or FALSE \n",
        "\n",
        "# class(): checks dtypes \n",
        "\n",
        "# Examples \n",
        "x <- 10.5 \n",
        "class(x) #numeric \n",
        "\n",
        "# integer \n",
        "y <- 1000L \n",
        "class(y) # integer, letter L makes it an integer \n",
        "\n",
        "# complex \n",
        "z <- 9i + 3\n",
        "class(z)\n",
        "\n",
        "# character/string \n",
        "l <- \"R is exciting\"\n",
        "class(l)\n",
        "\n",
        "# logical/boolean \n",
        "b <- TRUE \n",
        "class(b)"
      ],
      "execution_count": 27,
      "outputs": [
        {
          "output_type": "display_data",
          "data": {
            "text/plain": [
              "[1] \"numeric\""
            ],
            "text/latex": "'numeric'",
            "text/markdown": "'numeric'",
            "text/html": [
              "'numeric'"
            ]
          },
          "metadata": {}
        },
        {
          "output_type": "display_data",
          "data": {
            "text/plain": [
              "[1] \"integer\""
            ],
            "text/latex": "'integer'",
            "text/markdown": "'integer'",
            "text/html": [
              "'integer'"
            ]
          },
          "metadata": {}
        },
        {
          "output_type": "display_data",
          "data": {
            "text/plain": [
              "[1] \"complex\""
            ],
            "text/latex": "'complex'",
            "text/markdown": "'complex'",
            "text/html": [
              "'complex'"
            ]
          },
          "metadata": {}
        },
        {
          "output_type": "display_data",
          "data": {
            "text/plain": [
              "[1] \"character\""
            ],
            "text/latex": "'character'",
            "text/markdown": "'character'",
            "text/html": [
              "'character'"
            ]
          },
          "metadata": {}
        },
        {
          "output_type": "display_data",
          "data": {
            "text/plain": [
              "[1] \"logical\""
            ],
            "text/latex": "'logical'",
            "text/markdown": "'logical'",
            "text/html": [
              "'logical'"
            ]
          },
          "metadata": {}
        }
      ]
    },
    {
      "cell_type": "code",
      "metadata": {
        "colab": {
          "base_uri": "https://localhost:8080/",
          "height": 118
        },
        "id": "dGAvLxWvTkjd",
        "outputId": "0ea44e74-75aa-4417-d2bc-dab5b5cd43f3"
      },
      "source": [
        "# Numbers \n",
        "# numeric, integer, complex \n",
        "\n",
        "x <- 10.5 # numeric \n",
        "y <- 10L # integer \n",
        "z <- 9i + 3 # complex\n",
        "\n",
        "\n",
        "# type conversion \n",
        "\n",
        "# as.numeric()\n",
        "# as.integer()\n",
        "# as.complex()\n",
        "\n",
        "x <- 1L # integer \n",
        "y <- 2 # numeric \n",
        "\n",
        "# convert from integer to numeric \n",
        "a <- as.numeric(x) #x: integer > as numeric \n",
        "\n",
        "# convert numeric to integer \n",
        "b <- as.integer(y)\n",
        "\n",
        "# print \n",
        "x\n",
        "y \n",
        "\n",
        "a\n",
        "b\n",
        "\n",
        "# dtypes of a and b \n",
        "class(a)\n",
        "class(b)\n",
        "\n"
      ],
      "execution_count": 29,
      "outputs": [
        {
          "output_type": "display_data",
          "data": {
            "text/plain": [
              "[1] 1"
            ],
            "text/latex": "1",
            "text/markdown": "1",
            "text/html": [
              "1"
            ]
          },
          "metadata": {}
        },
        {
          "output_type": "display_data",
          "data": {
            "text/plain": [
              "[1] 2"
            ],
            "text/latex": "2",
            "text/markdown": "2",
            "text/html": [
              "2"
            ]
          },
          "metadata": {}
        },
        {
          "output_type": "display_data",
          "data": {
            "text/plain": [
              "[1] 1"
            ],
            "text/latex": "1",
            "text/markdown": "1",
            "text/html": [
              "1"
            ]
          },
          "metadata": {}
        },
        {
          "output_type": "display_data",
          "data": {
            "text/plain": [
              "[1] 2"
            ],
            "text/latex": "2",
            "text/markdown": "2",
            "text/html": [
              "2"
            ]
          },
          "metadata": {}
        },
        {
          "output_type": "display_data",
          "data": {
            "text/plain": [
              "[1] \"numeric\""
            ],
            "text/latex": "'numeric'",
            "text/markdown": "'numeric'",
            "text/html": [
              "'numeric'"
            ]
          },
          "metadata": {}
        },
        {
          "output_type": "display_data",
          "data": {
            "text/plain": [
              "[1] \"integer\""
            ],
            "text/latex": "'integer'",
            "text/markdown": "'integer'",
            "text/html": [
              "'integer'"
            ]
          },
          "metadata": {}
        }
      ]
    },
    {
      "cell_type": "code",
      "metadata": {
        "colab": {
          "base_uri": "https://localhost:8080/",
          "height": 118
        },
        "id": "koi-O5xrTkrt",
        "outputId": "5fe984fd-add5-4fa0-eef7-7aea2dd2bf20"
      },
      "source": [
        "# R Math \n",
        "\n",
        "# symbol for operations \n",
        "# +, -\n",
        "\n",
        "# Built-in Math Function \n",
        "max(5, 10, 5)\n",
        "min(5, 10, 5)\n",
        "sqrt(16)  # 4 \n",
        "abs(-4.7) # absolute(positive) value \n",
        "ceiling(1.4) #round-off # higher \n",
        "floor(1.4) #round-off # lower "
      ],
      "execution_count": 33,
      "outputs": [
        {
          "output_type": "display_data",
          "data": {
            "text/plain": [
              "[1] 10"
            ],
            "text/latex": "10",
            "text/markdown": "10",
            "text/html": [
              "10"
            ]
          },
          "metadata": {}
        },
        {
          "output_type": "display_data",
          "data": {
            "text/plain": [
              "[1] 5"
            ],
            "text/latex": "5",
            "text/markdown": "5",
            "text/html": [
              "5"
            ]
          },
          "metadata": {}
        },
        {
          "output_type": "display_data",
          "data": {
            "text/plain": [
              "[1] 4"
            ],
            "text/latex": "4",
            "text/markdown": "4",
            "text/html": [
              "4"
            ]
          },
          "metadata": {}
        },
        {
          "output_type": "display_data",
          "data": {
            "text/plain": [
              "[1] 4.7"
            ],
            "text/latex": "4.7",
            "text/markdown": "4.7",
            "text/html": [
              "4.7"
            ]
          },
          "metadata": {}
        },
        {
          "output_type": "display_data",
          "data": {
            "text/plain": [
              "[1] 2"
            ],
            "text/latex": "2",
            "text/markdown": "2",
            "text/html": [
              "2"
            ]
          },
          "metadata": {}
        },
        {
          "output_type": "display_data",
          "data": {
            "text/plain": [
              "[1] 1"
            ],
            "text/latex": "1",
            "text/markdown": "1",
            "text/html": [
              "1"
            ]
          },
          "metadata": {}
        }
      ]
    },
    {
      "cell_type": "code",
      "metadata": {
        "colab": {
          "base_uri": "https://localhost:8080/",
          "height": 238
        },
        "id": "bJZaSMd1TkzS",
        "outputId": "00c03b3f-cb96-4e27-e253-bdeb2ea0471d"
      },
      "source": [
        "# R strings \n",
        "\n",
        "# string literals \n",
        "\"hello\"\n",
        "'hello'\n",
        "\n",
        "# Assign a String to a Variable \n",
        "str <- \"Hello\"\n",
        "str\n",
        "\n",
        "# Multiline Strings \n",
        "str <- \"Lorem ipsum dolor sit amet,\n",
        "consectetur adipiscing elit, \n",
        "sed do eiusmod tempor incididunt\n",
        "ut labore et dolore magna aliqua.\"\n",
        "\n",
        "str #adds \\n : new line \n",
        "cat(str) # line breaks # no \\n #cat()\n",
        "\n",
        "# string Length \n",
        "str <- \"Hello World!\"\n",
        "nchar(str) # number of characters \n",
        "\n",
        "# check a string \n",
        "# grepl : check if a character or a sequence of characters are present \n",
        "# return: boolean \n",
        "\n",
        "str <- \"Hello World!\"\n",
        "grepl(\"H\", str) #TRUE \n",
        "grepl(\"Hello\", str) \n",
        "grepl(\"X\", str)\n",
        "\n",
        "# Combine Two Strings \n"
      ],
      "execution_count": 43,
      "outputs": [
        {
          "output_type": "display_data",
          "data": {
            "text/plain": [
              "[1] \"hello\""
            ],
            "text/latex": "'hello'",
            "text/markdown": "'hello'",
            "text/html": [
              "'hello'"
            ]
          },
          "metadata": {}
        },
        {
          "output_type": "display_data",
          "data": {
            "text/plain": [
              "[1] \"hello\""
            ],
            "text/latex": "'hello'",
            "text/markdown": "'hello'",
            "text/html": [
              "'hello'"
            ]
          },
          "metadata": {}
        },
        {
          "output_type": "display_data",
          "data": {
            "text/plain": [
              "[1] \"Hello\""
            ],
            "text/latex": "'Hello'",
            "text/markdown": "'Hello'",
            "text/html": [
              "'Hello'"
            ]
          },
          "metadata": {}
        },
        {
          "output_type": "display_data",
          "data": {
            "text/plain": [
              "[1] \"Lorem ipsum dolor sit amet,\\nconsectetur adipiscing elit, \\nsed do eiusmod tempor incididunt\\nut labore et dolore magna aliqua.\""
            ],
            "text/latex": "'Lorem ipsum dolor sit amet,\\textbackslash{}nconsectetur adipiscing elit, \\textbackslash{}nsed do eiusmod tempor incididunt\\textbackslash{}nut labore et dolore magna aliqua.'",
            "text/markdown": "'Lorem ipsum dolor sit amet,\\nconsectetur adipiscing elit, \\nsed do eiusmod tempor incididunt\\nut labore et dolore magna aliqua.'",
            "text/html": [
              "'Lorem ipsum dolor sit amet,\\nconsectetur adipiscing elit, \\nsed do eiusmod tempor incididunt\\nut labore et dolore magna aliqua.'"
            ]
          },
          "metadata": {}
        },
        {
          "output_type": "stream",
          "text": [
            "Lorem ipsum dolor sit amet,\n",
            "consectetur adipiscing elit, \n",
            "sed do eiusmod tempor incididunt\n",
            "ut labore et dolore magna aliqua."
          ],
          "name": "stdout"
        },
        {
          "output_type": "display_data",
          "data": {
            "text/plain": [
              "[1] 12"
            ],
            "text/latex": "12",
            "text/markdown": "12",
            "text/html": [
              "12"
            ]
          },
          "metadata": {}
        },
        {
          "output_type": "display_data",
          "data": {
            "text/plain": [
              "[1] TRUE"
            ],
            "text/latex": "TRUE",
            "text/markdown": "TRUE",
            "text/html": [
              "TRUE"
            ]
          },
          "metadata": {}
        },
        {
          "output_type": "display_data",
          "data": {
            "text/plain": [
              "[1] TRUE"
            ],
            "text/latex": "TRUE",
            "text/markdown": "TRUE",
            "text/html": [
              "TRUE"
            ]
          },
          "metadata": {}
        },
        {
          "output_type": "display_data",
          "data": {
            "text/plain": [
              "[1] FALSE"
            ],
            "text/latex": "FALSE",
            "text/markdown": "FALSE",
            "text/html": [
              "FALSE"
            ]
          },
          "metadata": {}
        }
      ]
    },
    {
      "cell_type": "code",
      "metadata": {
        "id": "1VCQ6mxjTk7s"
      },
      "source": [
        ""
      ],
      "execution_count": null,
      "outputs": []
    }
  ]
}